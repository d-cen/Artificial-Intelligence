{
  "nbformat": 4,
  "nbformat_minor": 0,
  "metadata": {
    "accelerator": "GPU",
    "colab": {
      "name": "Assignment_02_Exercises.ipynb",
      "provenance": [],
      "collapsed_sections": [],
      "toc_visible": true
    },
    "kernelspec": {
      "display_name": "Python 3",
      "language": "python",
      "name": "python3"
    },
    "language_info": {
      "codemirror_mode": {
        "name": "ipython",
        "version": 3
      },
      "file_extension": ".py",
      "mimetype": "text/x-python",
      "name": "python",
      "nbconvert_exporter": "python",
      "pygments_lexer": "ipython3",
      "version": "3.7.3"
    }
  },
  "cells": [
    {
      "cell_type": "markdown",
      "metadata": {
        "id": "kLTpDVQk0ozE"
      },
      "source": [
        "# ECE 57000 Assignment 2 Exercises\n",
        "\n",
        "\n",
        "\n",
        "Name: Ti-Wei Chen"
      ]
    },
    {
      "cell_type": "markdown",
      "metadata": {
        "id": "LKJkxZMASn7N"
      },
      "source": [
        "# Important submission information\n",
        "Please make sure to be careful to specify which pages of the PDF are for which exercises in Gradescope.  This will make grading significantly easier.\n",
        "\n",
        "**We may assess a 20% penalty for those who do not correctly follow these submission instructions.**"
      ]
    },
    {
      "cell_type": "markdown",
      "metadata": {
        "id": "JqJeDZYM1LbR"
      },
      "source": [
        "## Exercise 1\n",
        "\n",
        "In this exercise, you will implement linear regression using the polynomial features and compare results for diferent choices of degrees for the polynomial visually.\n",
        "\n",
        "### Task 1: Generate the data\n",
        "The data should be a noisy version of a sin wave i.e\n",
        "$y = \\sin (X) + \\epsilon $  where $\\epsilon \\sim \\text{NormalDistribution}(\\mu,\\sigma)$\n",
        "1. Generate **50** evenly spaced numbers over the interval $[0,4\\pi]$ and store them as a vector called `X`.\n",
        "2. Generate `y` from `X` by using the equation above with the parameter $\\mu=0, \\sigma=0.1$\n",
        "3. Do a scatter plot on `X` and `y` and give the plot and axis reasonable names.\n"
      ]
    },
    {
      "cell_type": "code",
      "metadata": {
        "id": "IVAotrp7Y55Z",
        "outputId": "9be26c71-51e0-4fbf-c8b9-a77fc0289d29",
        "colab": {
          "base_uri": "https://localhost:8080/",
          "height": 294
        }
      },
      "source": [
        "import numpy as np\n",
        "import matplotlib.pyplot as plt\n",
        "%matplotlib inline\n",
        "\n",
        "# <Your code>\n",
        "X = np.linspace(0, 4*np.pi, 50)\n",
        "y = []\n",
        "mu, sigma = 0, 0.1\n",
        "s = np.random.normal(mu, sigma, 50)\n",
        "for i in range(len(X)):\n",
        "  interval_y = np.sin(X[i]) + s[i]\n",
        "  y.append(interval_y)\n",
        "\n",
        "plt.plot(X, y, 'o', color='black')\n",
        "plt.title('Evenly Spaced Normal Distribution Scatter Plot')\n",
        "plt.xlabel('X')\n",
        "plt.ylabel('y')\n",
        "plt.show()"
      ],
      "execution_count": null,
      "outputs": [
        {
          "output_type": "display_data",
          "data": {
            "image/png": "[encoded data removed]",
            "text/plain": [
              "<Figure size 432x288 with 1 Axes>"
            ]
          },
          "metadata": {
            "tags": [],
            "needs_background": "light"
          }
        }
      ]
    },
    {
      "cell_type": "markdown",
      "metadata": {
        "id": "2F9jxyLnR3nZ"
      },
      "source": [
        "### Task 2: Fit the data\n",
        "Now try to use tools in sklearn to fit the data with varying degrees of the polynomial. The general process is:\n",
        "1. Create an estimator based on pipelining the function **PolynomialFeatures(degree)** and **LinearRegression()** (Read the instruction)\n",
        "2. Fit the estimator to the data you created in Task 1. (Note the estimator will expect a 2D array so you may have to reshape `X`.)\n",
        "3. Evaluate your trained estimator by using the given vector **xfit**, and plot the result curve over the scatter plot of your data.\n",
        "(The plot should look similar to the plot on the part 1 of the instruction)\n",
        "\n",
        "The output of your code should be a 2 by 2 grid of subplots (see [`plt.subplots`](https://matplotlib.org/3.3.1/api/_as_gen/matplotlib.pyplot.subplots.html) or [`plt.subplot`](https://matplotlib.org/3.3.1/api/_as_gen/matplotlib.pyplot.subplot.html#matplotlib.pyplot.subplot)) where each plot visualizes the mdoel fitted using different polynomial degrees (see above), specifically degrees `[3, 5, 9, 15]` respectively.\n",
        "Each subplot should be given a reasonable title to identify what it represents.\n",
        "\n",
        "NOTE: It is perfectly normal if the graph looks crazy for high degrees of polynomial choice."
      ]
    },
    {
      "cell_type": "code",
      "metadata": {
        "id": "-kmPdZCA0uRl",
        "outputId": "6ee1eb70-7749-4d66-95ee-b4ae359406a9",
        "colab": {
          "base_uri": "https://localhost:8080/",
          "height": 313
        }
      },
      "source": [
        "from sklearn.linear_model import LinearRegression\n",
        "from sklearn.pipeline import make_pipeline\n",
        "from sklearn.preprocessing import PolynomialFeatures\n",
        "\n",
        "xfit = np.linspace(0, 4*np.pi, 1000)\n",
        "\n",
        "# <Your code>\n",
        "fig, axis = plt.subplots(2, 2, constrained_layout=True)\n",
        "fig.suptitle('Polynomial Regression on Different Degrees', fontweight='bold')\n",
        "degree = [3, 5, 9, 15]\n",
        "\n",
        "estimator = make_pipeline(PolynomialFeatures(degree[0]), LinearRegression())\n",
        "estimator.fit(X[:, np.newaxis], y)\n",
        "yfit = estimator.predict(xfit[:, np.newaxis])\n",
        "axis[0, 0].plot(xfit, yfit, 'tab:blue')\n",
        "axis[0, 0].scatter(X, y, s=10, color='black')\n",
        "axis[0, 0].set_title('Degree = 3')\n",
        "\n",
        "estimator = make_pipeline(PolynomialFeatures(degree[1]), LinearRegression())\n",
        "estimator.fit(X[:, np.newaxis], y)\n",
        "yfit = estimator.predict(xfit[:, np.newaxis])\n",
        "axis[0, 1].plot(xfit, yfit, 'tab:orange')\n",
        "axis[0, 1].scatter(X, y, s=10, color='black')\n",
        "axis[0, 1].set_title('Degree = 5')\n",
        "\n",
        "estimator = make_pipeline(PolynomialFeatures(degree[2]), LinearRegression())\n",
        "estimator.fit(X[:, np.newaxis], y)\n",
        "yfit = estimator.predict(xfit[:, np.newaxis])\n",
        "axis[1, 0].plot(xfit, yfit, 'tab:green')\n",
        "axis[1, 0].scatter(X, y, s=10, color='black')\n",
        "axis[1, 0].set_title('Degree = 9')\n",
        "\n",
        "estimator = make_pipeline(PolynomialFeatures(degree[3]), LinearRegression())\n",
        "estimator.fit(X[:, np.newaxis], y)\n",
        "yfit = estimator.predict(xfit[:, np.newaxis])\n",
        "axis[1, 1].plot(xfit, yfit, 'tab:red')\n",
        "axis[1, 1].scatter(X, y, s=10, color='black')\n",
        "axis[1, 1].set_title('Degree = 15')\n",
        "\n",
        "plt.show()"
      ],
      "execution_count": null,
      "outputs": [
        {
          "output_type": "display_data",
          "data": {
            "image/png": "[encoded data removed]",
            "text/plain": [
              "<Figure size 432x288 with 4 Axes>"
            ]
          },
          "metadata": {
            "tags": [],
            "needs_background": "light"
          }
        }
      ]
    },
    {
      "cell_type": "markdown",
      "metadata": {
        "id": "kBSX7VY10uvp"
      },
      "source": [
        "## Exercise 2: KNN classifier on credit fraud dataset\n",
        "In this exercise, you will use K-nearest-neighbor method to create a model that is able to detect potential credit card fraud.\n",
        "\n",
        "### Task 1: Mount your drive\n",
        "Follow the step on the instructions and mount your google drive on Colab which allows to access the .csv file uploaded on your drive that was included with this assignment."
      ]
    },
    {
      "cell_type": "code",
      "metadata": {
        "id": "XLFvC76d6R6D",
        "outputId": "4e090ff1-4a39-402d-8af9-4c19d406fde8",
        "colab": {
          "base_uri": "https://localhost:8080/",
          "height": 34
        }
      },
      "source": [
        "from google.colab import drive\n",
        "drive.mount('/content/drive')"
      ],
      "execution_count": null,
      "outputs": [
        {
          "output_type": "stream",
          "text": [
            "Mounted at /content/drive\n"
          ],
          "name": "stdout"
        }
      ]
    },
    {
      "cell_type": "markdown",
      "metadata": {
        "id": "x3IBAYTlaWLD"
      },
      "source": [
        "### Task 2: Load and preprocess datasets\n",
        "In this program we are using a dataset that has the following features:  \n",
        "\n",
        "V1 | V1 | ... | V10 | Amount | Class \n",
        "---|---|---|---|---|---\n",
        "(float)|(float)|(float)|(float)|(float)|(str)\n",
        "\n",
        "The first ten features are the top PCA values for certain transaction information. The reason only PCA values are given is to protect private information.\n",
        "The **Amount** feature is the amount of money in that particular transaction and the **Class** feature contains two classes **safe** and **Fraud**.\n",
        "Each class has 400 examples, your task is to predict the **Class** feature from all the other features, i.e. determine which transactions are fraudulent or not.\n",
        "\n",
        "1. Load the given .csv file to the variable **data** by using the function **read_csv()**.\n",
        "2. Create **X** from **data** simply by dropping the last column (which will be our **y**) of the pandas dataframe, and create **y** by selecting the last column of the pandas data frame.\n",
        "3. Use **StandardScaler()** and **LabelEncoder()** to preprocess/tranform **X** and **y** respectively.\n",
        "4. Use **train_test_split** to create the training and test set with 20% of the data be the test data and set the `random_state` to `0`."
      ]
    },
    {
      "cell_type": "code",
      "metadata": {
        "id": "sKIMALaKaWh-",
        "outputId": "d1cf6f22-c5ba-43ae-d759-9f5a659572e3",
        "colab": {
          "base_uri": "https://localhost:8080/",
          "height": 87
        }
      },
      "source": [
        "import pandas as pd\n",
        "from sklearn.model_selection import train_test_split\n",
        "from sklearn.preprocessing import StandardScaler, LabelEncoder\n",
        "\n",
        "# <Your code>\n",
        "data = pd.read_csv(\"/content/drive/My Drive/hw-2/creditcard_ece570.csv\")\n",
        "X = data.drop(['Class'], axis=1)\n",
        "y = data['Class']\n",
        "\n",
        "scaler = StandardScaler()\n",
        "scaled_X = scaler.fit_transform(X)\n",
        "\n",
        "label_encode = LabelEncoder()\n",
        "labeled_y = label_encode.fit_transform(y)\n",
        "\n",
        "X_train, X_test, y_train, y_test = train_test_split(X, y, test_size=0.2, random_state=0)\n",
        "\n",
        "print(f'X_train has the shape {X_train.shape}')\n",
        "print(f'y_train has the shape {y_train.shape}')\n",
        "print(f'X_test has the shape {X_test.shape}')\n",
        "print(f'y_test has the shape {y_test.shape}')"
      ],
      "execution_count": null,
      "outputs": [
        {
          "output_type": "stream",
          "text": [
            "X_train has the shape (640, 11)\n",
            "y_train has the shape (640,)\n",
            "X_test has the shape (160, 11)\n",
            "y_test has the shape (160,)\n"
          ],
          "name": "stdout"
        }
      ]
    },
    {
      "cell_type": "markdown",
      "metadata": {
        "id": "Jq90js1DaXN3"
      },
      "source": [
        "### Task 3: Find the optimal KNN estimator\n",
        "We need to find the optimal parameters of the KNN estimator (the model selection problem) using cross validation, and then provide a final estimate of the model's generalization performance via the test set.\n",
        "1. Do a grid search (using the `GridSearchCV` estimator from scikit-learn) to optimize the following hyperparameters for KNN (use estimator `KNeighborsClassifier`) and name your gridsearch object `KNN_GV`:\n",
        "  * The number of neighbors `n_neighbors = [3,5,7,9,11,13,15]`\n",
        "  * Type of weights considered `weights = [uniform, distance]`\n",
        "  * Type of distance considered `metric = [euclidean, manhattan]`\n",
        "2. Fit your gridsearch by specifying the number of folds to 5 (see `cv` parameter of `GridSearchCV`). (Note: Pass only your training dataset into the `fit` function so that the model selection process doesn't see your test dataset.  `GridSearchCV` will take care of doing cross validation on the training dataset.)\n",
        "3. Print your best parameters combo (see `best_params_` attribute of KN and the corresponding score on the train and test set."
      ]
    },
    {
      "cell_type": "code",
      "metadata": {
        "id": "DPRzH6CuaXWI",
        "outputId": "467cc07f-c8f7-4094-a9ca-3bb500b00677",
        "colab": {
          "base_uri": "https://localhost:8080/",
          "height": 70
        }
      },
      "source": [
        "from sklearn.neighbors import KNeighborsClassifier\n",
        "from sklearn.model_selection import GridSearchCV\n",
        "\n",
        "# <Your code>\n",
        "grid_params = {\n",
        "    'n_neighbors': [3,5,7,9,11,13,15],\n",
        "    'weights': ['uniform', 'distance'],\n",
        "    'metric': ['euclidean', 'manhattan'],\n",
        "}\n",
        "\n",
        "KNN_GV = GridSearchCV(KNeighborsClassifier(),\n",
        "                      grid_params,\n",
        "                      cv = 5\n",
        "                     )\n",
        "\n",
        "KNN_GV = KNN_GV.fit(X_train, y_train)\n",
        "\n",
        "print(f'The best parameters are {KNN_GV.best_params_}')\n",
        "print(f'The best accuracy on the training data is {KNN_GV.score(X_train, y_train)}')\n",
        "print(f'The best accuracy on the testing data is {KNN_GV.score(X_test, y_test)}')"
      ],
      "execution_count": null,
      "outputs": [
        {
          "output_type": "stream",
          "text": [
            "The best parameters are {'metric': 'manhattan', 'n_neighbors': 3, 'weights': 'uniform'}\n",
            "The best accuracy on the training data is 0.9484375\n",
            "The best accuracy on the testing data is 0.88125\n"
          ],
          "name": "stdout"
        }
      ]
    }
  ]
}