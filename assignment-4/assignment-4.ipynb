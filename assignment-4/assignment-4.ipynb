{
  "nbformat": 4,
  "nbformat_minor": 0,
  "metadata": {
    "accelerator": "GPU",
    "colab": {
      "name": "Assignment_04_Exercise.ipynb",
      "provenance": [],
      "collapsed_sections": []
    },
    "kernelspec": {
      "display_name": "Python 3",
      "language": "python",
      "name": "python3"
    },
    "language_info": {
      "codemirror_mode": {
        "name": "ipython",
        "version": 3
      },
      "file_extension": ".py",
      "mimetype": "text/x-python",
      "name": "python",
      "nbconvert_exporter": "python",
      "pygments_lexer": "ipython3",
      "version": "3.8.8"
    },
    "widgets": {
      "application/vnd.jupyter.widget-state+json": {
        "6a72c5c306db4510a526cc9467052c99": {
          "model_module": "@jupyter-widgets/controls",
          "model_name": "HBoxModel",
          "model_module_version": "1.5.0",
          "state": {
            "_dom_classes": [],
            "_model_module": "@jupyter-widgets/controls",
            "_model_module_version": "1.5.0",
            "_model_name": "HBoxModel",
            "_view_count": null,
            "_view_module": "@jupyter-widgets/controls",
            "_view_module_version": "1.5.0",
            "_view_name": "HBoxView",
            "box_style": "",
            "children": [
              "IPY_MODEL_8da691033c004f36ab4ea475640049cd",
              "IPY_MODEL_d752f28be2e44ddca9b7fec01dd79228",
              "IPY_MODEL_77e7b3e4084a4d1b96ea44e2c3e28c9d"
            ],
            "layout": "IPY_MODEL_3317e950ea3549548d7df3bf638b9afe"
          }
        },
        "8da691033c004f36ab4ea475640049cd": {
          "model_module": "@jupyter-widgets/controls",
          "model_name": "HTMLModel",
          "model_module_version": "1.5.0",
          "state": {
            "_dom_classes": [],
            "_model_module": "@jupyter-widgets/controls",
            "_model_module_version": "1.5.0",
            "_model_name": "HTMLModel",
            "_view_count": null,
            "_view_module": "@jupyter-widgets/controls",
            "_view_module_version": "1.5.0",
            "_view_name": "HTMLView",
            "description": "",
            "description_tooltip": null,
            "layout": "IPY_MODEL_fa4a7fb7b946436388da78dbd6c92153",
            "placeholder": "​",
            "style": "IPY_MODEL_0ab252d7fd8a48a1bb70471a0f0a0854",
            "value": ""
          }
        },
        "d752f28be2e44ddca9b7fec01dd79228": {
          "model_module": "@jupyter-widgets/controls",
          "model_name": "FloatProgressModel",
          "model_module_version": "1.5.0",
          "state": {
            "_dom_classes": [],
            "_model_module": "@jupyter-widgets/controls",
            "_model_module_version": "1.5.0",
            "_model_name": "FloatProgressModel",
            "_view_count": null,
            "_view_module": "@jupyter-widgets/controls",
            "_view_module_version": "1.5.0",
            "_view_name": "ProgressView",
            "bar_style": "success",
            "description": "",
            "description_tooltip": null,
            "layout": "IPY_MODEL_49839a74318748d491c0e1811ae1bf28",
            "max": 9912422,
            "min": 0,
            "orientation": "horizontal",
            "style": "IPY_MODEL_841b982050c546ecaa26c07c5efefebd",
            "value": 9912422
          }
        },
        "77e7b3e4084a4d1b96ea44e2c3e28c9d": {
          "model_module": "@jupyter-widgets/controls",
          "model_name": "HTMLModel",
          "model_module_version": "1.5.0",
          "state": {
            "_dom_classes": [],
            "_model_module": "@jupyter-widgets/controls",
            "_model_module_version": "1.5.0",
            "_model_name": "HTMLModel",
            "_view_count": null,
            "_view_module": "@jupyter-widgets/controls",
            "_view_module_version": "1.5.0",
            "_view_name": "HTMLView",
            "description": "",
            "description_tooltip": null,
            "layout": "IPY_MODEL_fea7b5d619ff47b88d582a26417ce4c6",
            "placeholder": "​",
            "style": "IPY_MODEL_729a7a07ff82497e8bdc9a0845d24a8d",
            "value": " 9913344/? [00:00&lt;00:00, 14468685.35it/s]"
          }
        },
        "3317e950ea3549548d7df3bf638b9afe": {
          "model_module": "@jupyter-widgets/base",
          "model_name": "LayoutModel",
          "model_module_version": "1.2.0",
          "state": {
            "_model_module": "@jupyter-widgets/base",
            "_model_module_version": "1.2.0",
            "_model_name": "LayoutModel",
            "_view_count": null,
            "_view_module": "@jupyter-widgets/base",
            "_view_module_version": "1.2.0",
            "_view_name": "LayoutView",
            "align_content": null,
            "align_items": null,
            "align_self": null,
            "border": null,
            "bottom": null,
            "display": null,
            "flex": null,
            "flex_flow": null,
            "grid_area": null,
            "grid_auto_columns": null,
            "grid_auto_flow": null,
            "grid_auto_rows": null,
            "grid_column": null,
            "grid_gap": null,
            "grid_row": null,
            "grid_template_areas": null,
            "grid_template_columns": null,
            "grid_template_rows": null,
            "height": null,
            "justify_content": null,
            "justify_items": null,
            "left": null,
            "margin": null,
            "max_height": null,
            "max_width": null,
            "min_height": null,
            "min_width": null,
            "object_fit": null,
            "object_position": null,
            "order": null,
            "overflow": null,
            "overflow_x": null,
            "overflow_y": null,
            "padding": null,
            "right": null,
            "top": null,
            "visibility": null,
            "width": null
          }
        },
        "fa4a7fb7b946436388da78dbd6c92153": {
          "model_module": "@jupyter-widgets/base",
          "model_name": "LayoutModel",
          "model_module_version": "1.2.0",
          "state": {
            "_model_module": "@jupyter-widgets/base",
            "_model_module_version": "1.2.0",
            "_model_name": "LayoutModel",
            "_view_count": null,
            "_view_module": "@jupyter-widgets/base",
            "_view_module_version": "1.2.0",
            "_view_name": "LayoutView",
            "align_content": null,
            "align_items": null,
            "align_self": null,
            "border": null,
            "bottom": null,
            "display": null,
            "flex": null,
            "flex_flow": null,
            "grid_area": null,
            "grid_auto_columns": null,
            "grid_auto_flow": null,
            "grid_auto_rows": null,
            "grid_column": null,
            "grid_gap": null,
            "grid_row": null,
            "grid_template_areas": null,
            "grid_template_columns": null,
            "grid_template_rows": null,
            "height": null,
            "justify_content": null,
            "justify_items": null,
            "left": null,
            "margin": null,
            "max_height": null,
            "max_width": null,
            "min_height": null,
            "min_width": null,
            "object_fit": null,
            "object_position": null,
            "order": null,
            "overflow": null,
            "overflow_x": null,
            "overflow_y": null,
            "padding": null,
            "right": null,
            "top": null,
            "visibility": null,
            "width": null
          }
        },
        "0ab252d7fd8a48a1bb70471a0f0a0854": {
          "model_module": "@jupyter-widgets/controls",
          "model_name": "DescriptionStyleModel",
          "model_module_version": "1.5.0",
          "state": {
            "_model_module": "@jupyter-widgets/controls",
            "_model_module_version": "1.5.0",
            "_model_name": "DescriptionStyleModel",
            "_view_count": null,
            "_view_module": "@jupyter-widgets/base",
            "_view_module_version": "1.2.0",
            "_view_name": "StyleView",
            "description_width": ""
          }
        },
        "49839a74318748d491c0e1811ae1bf28": {
          "model_module": "@jupyter-widgets/base",
          "model_name": "LayoutModel",
          "model_module_version": "1.2.0",
          "state": {
            "_model_module": "@jupyter-widgets/base",
            "_model_module_version": "1.2.0",
            "_model_name": "LayoutModel",
            "_view_count": null,
            "_view_module": "@jupyter-widgets/base",
            "_view_module_version": "1.2.0",
            "_view_name": "LayoutView",
            "align_content": null,
            "align_items": null,
            "align_self": null,
            "border": null,
            "bottom": null,
            "display": null,
            "flex": null,
            "flex_flow": null,
            "grid_area": null,
            "grid_auto_columns": null,
            "grid_auto_flow": null,
            "grid_auto_rows": null,
            "grid_column": null,
            "grid_gap": null,
            "grid_row": null,
            "grid_template_areas": null,
            "grid_template_columns": null,
            "grid_template_rows": null,
            "height": null,
            "justify_content": null,
            "justify_items": null,
            "left": null,
            "margin": null,
            "max_height": null,
            "max_width": null,
            "min_height": null,
            "min_width": null,
            "object_fit": null,
            "object_position": null,
            "order": null,
            "overflow": null,
            "overflow_x": null,
            "overflow_y": null,
            "padding": null,
            "right": null,
            "top": null,
            "visibility": null,
            "width": null
          }
        },
        "841b982050c546ecaa26c07c5efefebd": {
          "model_module": "@jupyter-widgets/controls",
          "model_name": "ProgressStyleModel",
          "model_module_version": "1.5.0",
          "state": {
            "_model_module": "@jupyter-widgets/controls",
            "_model_module_version": "1.5.0",
            "_model_name": "ProgressStyleModel",
            "_view_count": null,
            "_view_module": "@jupyter-widgets/base",
            "_view_module_version": "1.2.0",
            "_view_name": "StyleView",
            "bar_color": null,
            "description_width": ""
          }
        },
        "fea7b5d619ff47b88d582a26417ce4c6": {
          "model_module": "@jupyter-widgets/base",
          "model_name": "LayoutModel",
          "model_module_version": "1.2.0",
          "state": {
            "_model_module": "@jupyter-widgets/base",
            "_model_module_version": "1.2.0",
            "_model_name": "LayoutModel",
            "_view_count": null,
            "_view_module": "@jupyter-widgets/base",
            "_view_module_version": "1.2.0",
            "_view_name": "LayoutView",
            "align_content": null,
            "align_items": null,
            "align_self": null,
            "border": null,
            "bottom": null,
            "display": null,
            "flex": null,
            "flex_flow": null,
            "grid_area": null,
            "grid_auto_columns": null,
            "grid_auto_flow": null,
            "grid_auto_rows": null,
            "grid_column": null,
            "grid_gap": null,
            "grid_row": null,
            "grid_template_areas": null,
            "grid_template_columns": null,
            "grid_template_rows": null,
            "height": null,
            "justify_content": null,
            "justify_items": null,
            "left": null,
            "margin": null,
            "max_height": null,
            "max_width": null,
            "min_height": null,
            "min_width": null,
            "object_fit": null,
            "object_position": null,
            "order": null,
            "overflow": null,
            "overflow_x": null,
            "overflow_y": null,
            "padding": null,
            "right": null,
            "top": null,
            "visibility": null,
            "width": null
          }
        },
        "729a7a07ff82497e8bdc9a0845d24a8d": {
          "model_module": "@jupyter-widgets/controls",
          "model_name": "DescriptionStyleModel",
          "model_module_version": "1.5.0",
          "state": {
            "_model_module": "@jupyter-widgets/controls",
            "_model_module_version": "1.5.0",
            "_model_name": "DescriptionStyleModel",
            "_view_count": null,
            "_view_module": "@jupyter-widgets/base",
            "_view_module_version": "1.2.0",
            "_view_name": "StyleView",
            "description_width": ""
          }
        },
        "d492d124203547668a0b22252486b1d7": {
          "model_module": "@jupyter-widgets/controls",
          "model_name": "HBoxModel",
          "model_module_version": "1.5.0",
          "state": {
            "_dom_classes": [],
            "_model_module": "@jupyter-widgets/controls",
            "_model_module_version": "1.5.0",
            "_model_name": "HBoxModel",
            "_view_count": null,
            "_view_module": "@jupyter-widgets/controls",
            "_view_module_version": "1.5.0",
            "_view_name": "HBoxView",
            "box_style": "",
            "children": [
              "IPY_MODEL_cf7d557937c34898ba4da77f6c53f428",
              "IPY_MODEL_d3eaa2fb63064b008a340a0c86f110b9",
              "IPY_MODEL_b7e1837c3f224516bf24c29440e4ea67"
            ],
            "layout": "IPY_MODEL_95623ed219024186a4d5a31ec2cb3473"
          }
        },
        "cf7d557937c34898ba4da77f6c53f428": {
          "model_module": "@jupyter-widgets/controls",
          "model_name": "HTMLModel",
          "model_module_version": "1.5.0",
          "state": {
            "_dom_classes": [],
            "_model_module": "@jupyter-widgets/controls",
            "_model_module_version": "1.5.0",
            "_model_name": "HTMLModel",
            "_view_count": null,
            "_view_module": "@jupyter-widgets/controls",
            "_view_module_version": "1.5.0",
            "_view_name": "HTMLView",
            "description": "",
            "description_tooltip": null,
            "layout": "IPY_MODEL_6a54712eb82340f0b8bb4906172d8118",
            "placeholder": "​",
            "style": "IPY_MODEL_e6788a946ec54afcabced4f3e1731a35",
            "value": ""
          }
        },
        "d3eaa2fb63064b008a340a0c86f110b9": {
          "model_module": "@jupyter-widgets/controls",
          "model_name": "FloatProgressModel",
          "model_module_version": "1.5.0",
          "state": {
            "_dom_classes": [],
            "_model_module": "@jupyter-widgets/controls",
            "_model_module_version": "1.5.0",
            "_model_name": "FloatProgressModel",
            "_view_count": null,
            "_view_module": "@jupyter-widgets/controls",
            "_view_module_version": "1.5.0",
            "_view_name": "ProgressView",
            "bar_style": "success",
            "description": "",
            "description_tooltip": null,
            "layout": "IPY_MODEL_d33383eaa06e4ae4b3a692c1b861c75e",
            "max": 28881,
            "min": 0,
            "orientation": "horizontal",
            "style": "IPY_MODEL_4d4c86b337874c7d87e7adc0d06fc725",
            "value": 28881
          }
        },
        "b7e1837c3f224516bf24c29440e4ea67": {
          "model_module": "@jupyter-widgets/controls",
          "model_name": "HTMLModel",
          "model_module_version": "1.5.0",
          "state": {
            "_dom_classes": [],
            "_model_module": "@jupyter-widgets/controls",
            "_model_module_version": "1.5.0",
            "_model_name": "HTMLModel",
            "_view_count": null,
            "_view_module": "@jupyter-widgets/controls",
            "_view_module_version": "1.5.0",
            "_view_name": "HTMLView",
            "description": "",
            "description_tooltip": null,
            "layout": "IPY_MODEL_0baca86106ca4415ad6eb6f56083fb93",
            "placeholder": "​",
            "style": "IPY_MODEL_823025ca88a24c5ea2e55bc66d20e576",
            "value": " 29696/? [00:00&lt;00:00, 838245.44it/s]"
          }
        },
        "95623ed219024186a4d5a31ec2cb3473": {
          "model_module": "@jupyter-widgets/base",
          "model_name": "LayoutModel",
          "model_module_version": "1.2.0",
          "state": {
            "_model_module": "@jupyter-widgets/base",
            "_model_module_version": "1.2.0",
            "_model_name": "LayoutModel",
            "_view_count": null,
            "_view_module": "@jupyter-widgets/base",
            "_view_module_version": "1.2.0",
            "_view_name": "LayoutView",
            "align_content": null,
            "align_items": null,
            "align_self": null,
            "border": null,
            "bottom": null,
            "display": null,
            "flex": null,
            "flex_flow": null,
            "grid_area": null,
            "grid_auto_columns": null,
            "grid_auto_flow": null,
            "grid_auto_rows": null,
            "grid_column": null,
            "grid_gap": null,
            "grid_row": null,
            "grid_template_areas": null,
            "grid_template_columns": null,
            "grid_template_rows": null,
            "height": null,
            "justify_content": null,
            "justify_items": null,
            "left": null,
            "margin": null,
            "max_height": null,
            "max_width": null,
            "min_height": null,
            "min_width": null,
            "object_fit": null,
            "object_position": null,
            "order": null,
            "overflow": null,
            "overflow_x": null,
            "overflow_y": null,
            "padding": null,
            "right": null,
            "top": null,
            "visibility": null,
            "width": null
          }
        },
        "6a54712eb82340f0b8bb4906172d8118": {
          "model_module": "@jupyter-widgets/base",
          "model_name": "LayoutModel",
          "model_module_version": "1.2.0",
          "state": {
            "_model_module": "@jupyter-widgets/base",
            "_model_module_version": "1.2.0",
            "_model_name": "LayoutModel",
            "_view_count": null,
            "_view_module": "@jupyter-widgets/base",
            "_view_module_version": "1.2.0",
            "_view_name": "LayoutView",
            "align_content": null,
            "align_items": null,
            "align_self": null,
            "border": null,
            "bottom": null,
            "display": null,
            "flex": null,
            "flex_flow": null,
            "grid_area": null,
            "grid_auto_columns": null,
            "grid_auto_flow": null,
            "grid_auto_rows": null,
            "grid_column": null,
            "grid_gap": null,
            "grid_row": null,
            "grid_template_areas": null,
            "grid_template_columns": null,
            "grid_template_rows": null,
            "height": null,
            "justify_content": null,
            "justify_items": null,
            "left": null,
            "margin": null,
            "max_height": null,
            "max_width": null,
            "min_height": null,
            "min_width": null,
            "object_fit": null,
            "object_position": null,
            "order": null,
            "overflow": null,
            "overflow_x": null,
            "overflow_y": null,
            "padding": null,
            "right": null,
            "top": null,
            "visibility": null,
            "width": null
          }
        },
        "e6788a946ec54afcabced4f3e1731a35": {
          "model_module": "@jupyter-widgets/controls",
          "model_name": "DescriptionStyleModel",
          "model_module_version": "1.5.0",
          "state": {
            "_model_module": "@jupyter-widgets/controls",
            "_model_module_version": "1.5.0",
            "_model_name": "DescriptionStyleModel",
            "_view_count": null,
            "_view_module": "@jupyter-widgets/base",
            "_view_module_version": "1.2.0",
            "_view_name": "StyleView",
            "description_width": ""
          }
        },
        "d33383eaa06e4ae4b3a692c1b861c75e": {
          "model_module": "@jupyter-widgets/base",
          "model_name": "LayoutModel",
          "model_module_version": "1.2.0",
          "state": {
            "_model_module": "@jupyter-widgets/base",
            "_model_module_version": "1.2.0",
            "_model_name": "LayoutModel",
            "_view_count": null,
            "_view_module": "@jupyter-widgets/base",
            "_view_module_version": "1.2.0",
            "_view_name": "LayoutView",
            "align_content": null,
            "align_items": null,
            "align_self": null,
            "border": null,
            "bottom": null,
            "display": null,
            "flex": null,
            "flex_flow": null,
            "grid_area": null,
            "grid_auto_columns": null,
            "grid_auto_flow": null,
            "grid_auto_rows": null,
            "grid_column": null,
            "grid_gap": null,
            "grid_row": null,
            "grid_template_areas": null,
            "grid_template_columns": null,
            "grid_template_rows": null,
            "height": null,
            "justify_content": null,
            "justify_items": null,
            "left": null,
            "margin": null,
            "max_height": null,
            "max_width": null,
            "min_height": null,
            "min_width": null,
            "object_fit": null,
            "object_position": null,
            "order": null,
            "overflow": null,
            "overflow_x": null,
            "overflow_y": null,
            "padding": null,
            "right": null,
            "top": null,
            "visibility": null,
            "width": null
          }
        },
        "4d4c86b337874c7d87e7adc0d06fc725": {
          "model_module": "@jupyter-widgets/controls",
          "model_name": "ProgressStyleModel",
          "model_module_version": "1.5.0",
          "state": {
            "_model_module": "@jupyter-widgets/controls",
            "_model_module_version": "1.5.0",
            "_model_name": "ProgressStyleModel",
            "_view_count": null,
            "_view_module": "@jupyter-widgets/base",
            "_view_module_version": "1.2.0",
            "_view_name": "StyleView",
            "bar_color": null,
            "description_width": ""
          }
        },
        "0baca86106ca4415ad6eb6f56083fb93": {
          "model_module": "@jupyter-widgets/base",
          "model_name": "LayoutModel",
          "model_module_version": "1.2.0",
          "state": {
            "_model_module": "@jupyter-widgets/base",
            "_model_module_version": "1.2.0",
            "_model_name": "LayoutModel",
            "_view_count": null,
            "_view_module": "@jupyter-widgets/base",
            "_view_module_version": "1.2.0",
            "_view_name": "LayoutView",
            "align_content": null,
            "align_items": null,
            "align_self": null,
            "border": null,
            "bottom": null,
            "display": null,
            "flex": null,
            "flex_flow": null,
            "grid_area": null,
            "grid_auto_columns": null,
            "grid_auto_flow": null,
            "grid_auto_rows": null,
            "grid_column": null,
            "grid_gap": null,
            "grid_row": null,
            "grid_template_areas": null,
            "grid_template_columns": null,
            "grid_template_rows": null,
            "height": null,
            "justify_content": null,
            "justify_items": null,
            "left": null,
            "margin": null,
            "max_height": null,
            "max_width": null,
            "min_height": null,
            "min_width": null,
            "object_fit": null,
            "object_position": null,
            "order": null,
            "overflow": null,
            "overflow_x": null,
            "overflow_y": null,
            "padding": null,
            "right": null,
            "top": null,
            "visibility": null,
            "width": null
          }
        },
        "823025ca88a24c5ea2e55bc66d20e576": {
          "model_module": "@jupyter-widgets/controls",
          "model_name": "DescriptionStyleModel",
          "model_module_version": "1.5.0",
          "state": {
            "_model_module": "@jupyter-widgets/controls",
            "_model_module_version": "1.5.0",
            "_model_name": "DescriptionStyleModel",
            "_view_count": null,
            "_view_module": "@jupyter-widgets/base",
            "_view_module_version": "1.2.0",
            "_view_name": "StyleView",
            "description_width": ""
          }
        },
        "33e4208df8a0458088a5ea8f37171d1f": {
          "model_module": "@jupyter-widgets/controls",
          "model_name": "HBoxModel",
          "model_module_version": "1.5.0",
          "state": {
            "_dom_classes": [],
            "_model_module": "@jupyter-widgets/controls",
            "_model_module_version": "1.5.0",
            "_model_name": "HBoxModel",
            "_view_count": null,
            "_view_module": "@jupyter-widgets/controls",
            "_view_module_version": "1.5.0",
            "_view_name": "HBoxView",
            "box_style": "",
            "children": [
              "IPY_MODEL_4c5dbb49ee2448978f6fa6c7ac9b0bf4",
              "IPY_MODEL_afb7469969034b7689c1b0c3fded22d1",
              "IPY_MODEL_69ca2749f93f42f7aa0a85a0f48384d5"
            ],
            "layout": "IPY_MODEL_0b2187e0e80c4cc4a4d899ee9b94ab2a"
          }
        },
        "4c5dbb49ee2448978f6fa6c7ac9b0bf4": {
          "model_module": "@jupyter-widgets/controls",
          "model_name": "HTMLModel",
          "model_module_version": "1.5.0",
          "state": {
            "_dom_classes": [],
            "_model_module": "@jupyter-widgets/controls",
            "_model_module_version": "1.5.0",
            "_model_name": "HTMLModel",
            "_view_count": null,
            "_view_module": "@jupyter-widgets/controls",
            "_view_module_version": "1.5.0",
            "_view_name": "HTMLView",
            "description": "",
            "description_tooltip": null,
            "layout": "IPY_MODEL_2a0c2f15b74c468190cee8c3c71452ed",
            "placeholder": "​",
            "style": "IPY_MODEL_1e18092cbc6746b0a4f63bddf536d473",
            "value": ""
          }
        },
        "afb7469969034b7689c1b0c3fded22d1": {
          "model_module": "@jupyter-widgets/controls",
          "model_name": "FloatProgressModel",
          "model_module_version": "1.5.0",
          "state": {
            "_dom_classes": [],
            "_model_module": "@jupyter-widgets/controls",
            "_model_module_version": "1.5.0",
            "_model_name": "FloatProgressModel",
            "_view_count": null,
            "_view_module": "@jupyter-widgets/controls",
            "_view_module_version": "1.5.0",
            "_view_name": "ProgressView",
            "bar_style": "success",
            "description": "",
            "description_tooltip": null,
            "layout": "IPY_MODEL_8f56e5647bc441afaaa8c4aee0e902af",
            "max": 1648877,
            "min": 0,
            "orientation": "horizontal",
            "style": "IPY_MODEL_db826413ac9e45aea5c68eacc79c7621",
            "value": 1648877
          }
        },
        "69ca2749f93f42f7aa0a85a0f48384d5": {
          "model_module": "@jupyter-widgets/controls",
          "model_name": "HTMLModel",
          "model_module_version": "1.5.0",
          "state": {
            "_dom_classes": [],
            "_model_module": "@jupyter-widgets/controls",
            "_model_module_version": "1.5.0",
            "_model_name": "HTMLModel",
            "_view_count": null,
            "_view_module": "@jupyter-widgets/controls",
            "_view_module_version": "1.5.0",
            "_view_name": "HTMLView",
            "description": "",
            "description_tooltip": null,
            "layout": "IPY_MODEL_40657bbaa6384e7f857531161c96b662",
            "placeholder": "​",
            "style": "IPY_MODEL_d7177a6db8764c6a9db6ab52fc017094",
            "value": " 1649664/? [00:00&lt;00:00, 10832845.58it/s]"
          }
        },
        "0b2187e0e80c4cc4a4d899ee9b94ab2a": {
          "model_module": "@jupyter-widgets/base",
          "model_name": "LayoutModel",
          "model_module_version": "1.2.0",
          "state": {
            "_model_module": "@jupyter-widgets/base",
            "_model_module_version": "1.2.0",
            "_model_name": "LayoutModel",
            "_view_count": null,
            "_view_module": "@jupyter-widgets/base",
            "_view_module_version": "1.2.0",
            "_view_name": "LayoutView",
            "align_content": null,
            "align_items": null,
            "align_self": null,
            "border": null,
            "bottom": null,
            "display": null,
            "flex": null,
            "flex_flow": null,
            "grid_area": null,
            "grid_auto_columns": null,
            "grid_auto_flow": null,
            "grid_auto_rows": null,
            "grid_column": null,
            "grid_gap": null,
            "grid_row": null,
            "grid_template_areas": null,
            "grid_template_columns": null,
            "grid_template_rows": null,
            "height": null,
            "justify_content": null,
            "justify_items": null,
            "left": null,
            "margin": null,
            "max_height": null,
            "max_width": null,
            "min_height": null,
            "min_width": null,
            "object_fit": null,
            "object_position": null,
            "order": null,
            "overflow": null,
            "overflow_x": null,
            "overflow_y": null,
            "padding": null,
            "right": null,
            "top": null,
            "visibility": null,
            "width": null
          }
        },
        "2a0c2f15b74c468190cee8c3c71452ed": {
          "model_module": "@jupyter-widgets/base",
          "model_name": "LayoutModel",
          "model_module_version": "1.2.0",
          "state": {
            "_model_module": "@jupyter-widgets/base",
            "_model_module_version": "1.2.0",
            "_model_name": "LayoutModel",
            "_view_count": null,
            "_view_module": "@jupyter-widgets/base",
            "_view_module_version": "1.2.0",
            "_view_name": "LayoutView",
            "align_content": null,
            "align_items": null,
            "align_self": null,
            "border": null,
            "bottom": null,
            "display": null,
            "flex": null,
            "flex_flow": null,
            "grid_area": null,
            "grid_auto_columns": null,
            "grid_auto_flow": null,
            "grid_auto_rows": null,
            "grid_column": null,
            "grid_gap": null,
            "grid_row": null,
            "grid_template_areas": null,
            "grid_template_columns": null,
            "grid_template_rows": null,
            "height": null,
            "justify_content": null,
            "justify_items": null,
            "left": null,
            "margin": null,
            "max_height": null,
            "max_width": null,
            "min_height": null,
            "min_width": null,
            "object_fit": null,
            "object_position": null,
            "order": null,
            "overflow": null,
            "overflow_x": null,
            "overflow_y": null,
            "padding": null,
            "right": null,
            "top": null,
            "visibility": null,
            "width": null
          }
        },
        "1e18092cbc6746b0a4f63bddf536d473": {
          "model_module": "@jupyter-widgets/controls",
          "model_name": "DescriptionStyleModel",
          "model_module_version": "1.5.0",
          "state": {
            "_model_module": "@jupyter-widgets/controls",
            "_model_module_version": "1.5.0",
            "_model_name": "DescriptionStyleModel",
            "_view_count": null,
            "_view_module": "@jupyter-widgets/base",
            "_view_module_version": "1.2.0",
            "_view_name": "StyleView",
            "description_width": ""
          }
        },
        "8f56e5647bc441afaaa8c4aee0e902af": {
          "model_module": "@jupyter-widgets/base",
          "model_name": "LayoutModel",
          "model_module_version": "1.2.0",
          "state": {
            "_model_module": "@jupyter-widgets/base",
            "_model_module_version": "1.2.0",
            "_model_name": "LayoutModel",
            "_view_count": null,
            "_view_module": "@jupyter-widgets/base",
            "_view_module_version": "1.2.0",
            "_view_name": "LayoutView",
            "align_content": null,
            "align_items": null,
            "align_self": null,
            "border": null,
            "bottom": null,
            "display": null,
            "flex": null,
            "flex_flow": null,
            "grid_area": null,
            "grid_auto_columns": null,
            "grid_auto_flow": null,
            "grid_auto_rows": null,
            "grid_column": null,
            "grid_gap": null,
            "grid_row": null,
            "grid_template_areas": null,
            "grid_template_columns": null,
            "grid_template_rows": null,
            "height": null,
            "justify_content": null,
            "justify_items": null,
            "left": null,
            "margin": null,
            "max_height": null,
            "max_width": null,
            "min_height": null,
            "min_width": null,
            "object_fit": null,
            "object_position": null,
            "order": null,
            "overflow": null,
            "overflow_x": null,
            "overflow_y": null,
            "padding": null,
            "right": null,
            "top": null,
            "visibility": null,
            "width": null
          }
        },
        "db826413ac9e45aea5c68eacc79c7621": {
          "model_module": "@jupyter-widgets/controls",
          "model_name": "ProgressStyleModel",
          "model_module_version": "1.5.0",
          "state": {
            "_model_module": "@jupyter-widgets/controls",
            "_model_module_version": "1.5.0",
            "_model_name": "ProgressStyleModel",
            "_view_count": null,
            "_view_module": "@jupyter-widgets/base",
            "_view_module_version": "1.2.0",
            "_view_name": "StyleView",
            "bar_color": null,
            "description_width": ""
          }
        },
        "40657bbaa6384e7f857531161c96b662": {
          "model_module": "@jupyter-widgets/base",
          "model_name": "LayoutModel",
          "model_module_version": "1.2.0",
          "state": {
            "_model_module": "@jupyter-widgets/base",
            "_model_module_version": "1.2.0",
            "_model_name": "LayoutModel",
            "_view_count": null,
            "_view_module": "@jupyter-widgets/base",
            "_view_module_version": "1.2.0",
            "_view_name": "LayoutView",
            "align_content": null,
            "align_items": null,
            "align_self": null,
            "border": null,
            "bottom": null,
            "display": null,
            "flex": null,
            "flex_flow": null,
            "grid_area": null,
            "grid_auto_columns": null,
            "grid_auto_flow": null,
            "grid_auto_rows": null,
            "grid_column": null,
            "grid_gap": null,
            "grid_row": null,
            "grid_template_areas": null,
            "grid_template_columns": null,
            "grid_template_rows": null,
            "height": null,
            "justify_content": null,
            "justify_items": null,
            "left": null,
            "margin": null,
            "max_height": null,
            "max_width": null,
            "min_height": null,
            "min_width": null,
            "object_fit": null,
            "object_position": null,
            "order": null,
            "overflow": null,
            "overflow_x": null,
            "overflow_y": null,
            "padding": null,
            "right": null,
            "top": null,
            "visibility": null,
            "width": null
          }
        },
        "d7177a6db8764c6a9db6ab52fc017094": {
          "model_module": "@jupyter-widgets/controls",
          "model_name": "DescriptionStyleModel",
          "model_module_version": "1.5.0",
          "state": {
            "_model_module": "@jupyter-widgets/controls",
            "_model_module_version": "1.5.0",
            "_model_name": "DescriptionStyleModel",
            "_view_count": null,
            "_view_module": "@jupyter-widgets/base",
            "_view_module_version": "1.2.0",
            "_view_name": "StyleView",
            "description_width": ""
          }
        },
        "a3dc6c9162704b1d9098fd63f2708ecd": {
          "model_module": "@jupyter-widgets/controls",
          "model_name": "HBoxModel",
          "model_module_version": "1.5.0",
          "state": {
            "_dom_classes": [],
            "_model_module": "@jupyter-widgets/controls",
            "_model_module_version": "1.5.0",
            "_model_name": "HBoxModel",
            "_view_count": null,
            "_view_module": "@jupyter-widgets/controls",
            "_view_module_version": "1.5.0",
            "_view_name": "HBoxView",
            "box_style": "",
            "children": [
              "IPY_MODEL_01422c5642dc44eda9564eb7c7ed1392",
              "IPY_MODEL_6cfac089b4cc412f8a0fa93a29089cbe",
              "IPY_MODEL_354ac199d22043f3900384843ee3e3a3"
            ],
            "layout": "IPY_MODEL_2b9bfd7202854de68e9d8937d11ef071"
          }
        },
        "01422c5642dc44eda9564eb7c7ed1392": {
          "model_module": "@jupyter-widgets/controls",
          "model_name": "HTMLModel",
          "model_module_version": "1.5.0",
          "state": {
            "_dom_classes": [],
            "_model_module": "@jupyter-widgets/controls",
            "_model_module_version": "1.5.0",
            "_model_name": "HTMLModel",
            "_view_count": null,
            "_view_module": "@jupyter-widgets/controls",
            "_view_module_version": "1.5.0",
            "_view_name": "HTMLView",
            "description": "",
            "description_tooltip": null,
            "layout": "IPY_MODEL_e531f23659ba44d0a028f784b7201821",
            "placeholder": "​",
            "style": "IPY_MODEL_4be144b088b54fad99f331aa56cf0fa4",
            "value": ""
          }
        },
        "6cfac089b4cc412f8a0fa93a29089cbe": {
          "model_module": "@jupyter-widgets/controls",
          "model_name": "FloatProgressModel",
          "model_module_version": "1.5.0",
          "state": {
            "_dom_classes": [],
            "_model_module": "@jupyter-widgets/controls",
            "_model_module_version": "1.5.0",
            "_model_name": "FloatProgressModel",
            "_view_count": null,
            "_view_module": "@jupyter-widgets/controls",
            "_view_module_version": "1.5.0",
            "_view_name": "ProgressView",
            "bar_style": "success",
            "description": "",
            "description_tooltip": null,
            "layout": "IPY_MODEL_9eb00afeb4074549b79a4ad86e87c759",
            "max": 4542,
            "min": 0,
            "orientation": "horizontal",
            "style": "IPY_MODEL_5b7d691f385c4c508b9f7023a5a70260",
            "value": 4542
          }
        },
        "354ac199d22043f3900384843ee3e3a3": {
          "model_module": "@jupyter-widgets/controls",
          "model_name": "HTMLModel",
          "model_module_version": "1.5.0",
          "state": {
            "_dom_classes": [],
            "_model_module": "@jupyter-widgets/controls",
            "_model_module_version": "1.5.0",
            "_model_name": "HTMLModel",
            "_view_count": null,
            "_view_module": "@jupyter-widgets/controls",
            "_view_module_version": "1.5.0",
            "_view_name": "HTMLView",
            "description": "",
            "description_tooltip": null,
            "layout": "IPY_MODEL_3248f2185df746ff85b7db07f5ce9afd",
            "placeholder": "​",
            "style": "IPY_MODEL_76c609cc0f76424b8652aa11288516aa",
            "value": " 5120/? [00:00&lt;00:00, 136484.22it/s]"
          }
        },
        "2b9bfd7202854de68e9d8937d11ef071": {
          "model_module": "@jupyter-widgets/base",
          "model_name": "LayoutModel",
          "model_module_version": "1.2.0",
          "state": {
            "_model_module": "@jupyter-widgets/base",
            "_model_module_version": "1.2.0",
            "_model_name": "LayoutModel",
            "_view_count": null,
            "_view_module": "@jupyter-widgets/base",
            "_view_module_version": "1.2.0",
            "_view_name": "LayoutView",
            "align_content": null,
            "align_items": null,
            "align_self": null,
            "border": null,
            "bottom": null,
            "display": null,
            "flex": null,
            "flex_flow": null,
            "grid_area": null,
            "grid_auto_columns": null,
            "grid_auto_flow": null,
            "grid_auto_rows": null,
            "grid_column": null,
            "grid_gap": null,
            "grid_row": null,
            "grid_template_areas": null,
            "grid_template_columns": null,
            "grid_template_rows": null,
            "height": null,
            "justify_content": null,
            "justify_items": null,
            "left": null,
            "margin": null,
            "max_height": null,
            "max_width": null,
            "min_height": null,
            "min_width": null,
            "object_fit": null,
            "object_position": null,
            "order": null,
            "overflow": null,
            "overflow_x": null,
            "overflow_y": null,
            "padding": null,
            "right": null,
            "top": null,
            "visibility": null,
            "width": null
          }
        },
        "e531f23659ba44d0a028f784b7201821": {
          "model_module": "@jupyter-widgets/base",
          "model_name": "LayoutModel",
          "model_module_version": "1.2.0",
          "state": {
            "_model_module": "@jupyter-widgets/base",
            "_model_module_version": "1.2.0",
            "_model_name": "LayoutModel",
            "_view_count": null,
            "_view_module": "@jupyter-widgets/base",
            "_view_module_version": "1.2.0",
            "_view_name": "LayoutView",
            "align_content": null,
            "align_items": null,
            "align_self": null,
            "border": null,
            "bottom": null,
            "display": null,
            "flex": null,
            "flex_flow": null,
            "grid_area": null,
            "grid_auto_columns": null,
            "grid_auto_flow": null,
            "grid_auto_rows": null,
            "grid_column": null,
            "grid_gap": null,
            "grid_row": null,
            "grid_template_areas": null,
            "grid_template_columns": null,
            "grid_template_rows": null,
            "height": null,
            "justify_content": null,
            "justify_items": null,
            "left": null,
            "margin": null,
            "max_height": null,
            "max_width": null,
            "min_height": null,
            "min_width": null,
            "object_fit": null,
            "object_position": null,
            "order": null,
            "overflow": null,
            "overflow_x": null,
            "overflow_y": null,
            "padding": null,
            "right": null,
            "top": null,
            "visibility": null,
            "width": null
          }
        },
        "4be144b088b54fad99f331aa56cf0fa4": {
          "model_module": "@jupyter-widgets/controls",
          "model_name": "DescriptionStyleModel",
          "model_module_version": "1.5.0",
          "state": {
            "_model_module": "@jupyter-widgets/controls",
            "_model_module_version": "1.5.0",
            "_model_name": "DescriptionStyleModel",
            "_view_count": null,
            "_view_module": "@jupyter-widgets/base",
            "_view_module_version": "1.2.0",
            "_view_name": "StyleView",
            "description_width": ""
          }
        },
        "9eb00afeb4074549b79a4ad86e87c759": {
          "model_module": "@jupyter-widgets/base",
          "model_name": "LayoutModel",
          "model_module_version": "1.2.0",
          "state": {
            "_model_module": "@jupyter-widgets/base",
            "_model_module_version": "1.2.0",
            "_model_name": "LayoutModel",
            "_view_count": null,
            "_view_module": "@jupyter-widgets/base",
            "_view_module_version": "1.2.0",
            "_view_name": "LayoutView",
            "align_content": null,
            "align_items": null,
            "align_self": null,
            "border": null,
            "bottom": null,
            "display": null,
            "flex": null,
            "flex_flow": null,
            "grid_area": null,
            "grid_auto_columns": null,
            "grid_auto_flow": null,
            "grid_auto_rows": null,
            "grid_column": null,
            "grid_gap": null,
            "grid_row": null,
            "grid_template_areas": null,
            "grid_template_columns": null,
            "grid_template_rows": null,
            "height": null,
            "justify_content": null,
            "justify_items": null,
            "left": null,
            "margin": null,
            "max_height": null,
            "max_width": null,
            "min_height": null,
            "min_width": null,
            "object_fit": null,
            "object_position": null,
            "order": null,
            "overflow": null,
            "overflow_x": null,
            "overflow_y": null,
            "padding": null,
            "right": null,
            "top": null,
            "visibility": null,
            "width": null
          }
        },
        "5b7d691f385c4c508b9f7023a5a70260": {
          "model_module": "@jupyter-widgets/controls",
          "model_name": "ProgressStyleModel",
          "model_module_version": "1.5.0",
          "state": {
            "_model_module": "@jupyter-widgets/controls",
            "_model_module_version": "1.5.0",
            "_model_name": "ProgressStyleModel",
            "_view_count": null,
            "_view_module": "@jupyter-widgets/base",
            "_view_module_version": "1.2.0",
            "_view_name": "StyleView",
            "bar_color": null,
            "description_width": ""
          }
        },
        "3248f2185df746ff85b7db07f5ce9afd": {
          "model_module": "@jupyter-widgets/base",
          "model_name": "LayoutModel",
          "model_module_version": "1.2.0",
          "state": {
            "_model_module": "@jupyter-widgets/base",
            "_model_module_version": "1.2.0",
            "_model_name": "LayoutModel",
            "_view_count": null,
            "_view_module": "@jupyter-widgets/base",
            "_view_module_version": "1.2.0",
            "_view_name": "LayoutView",
            "align_content": null,
            "align_items": null,
            "align_self": null,
            "border": null,
            "bottom": null,
            "display": null,
            "flex": null,
            "flex_flow": null,
            "grid_area": null,
            "grid_auto_columns": null,
            "grid_auto_flow": null,
            "grid_auto_rows": null,
            "grid_column": null,
            "grid_gap": null,
            "grid_row": null,
            "grid_template_areas": null,
            "grid_template_columns": null,
            "grid_template_rows": null,
            "height": null,
            "justify_content": null,
            "justify_items": null,
            "left": null,
            "margin": null,
            "max_height": null,
            "max_width": null,
            "min_height": null,
            "min_width": null,
            "object_fit": null,
            "object_position": null,
            "order": null,
            "overflow": null,
            "overflow_x": null,
            "overflow_y": null,
            "padding": null,
            "right": null,
            "top": null,
            "visibility": null,
            "width": null
          }
        },
        "76c609cc0f76424b8652aa11288516aa": {
          "model_module": "@jupyter-widgets/controls",
          "model_name": "DescriptionStyleModel",
          "model_module_version": "1.5.0",
          "state": {
            "_model_module": "@jupyter-widgets/controls",
            "_model_module_version": "1.5.0",
            "_model_name": "DescriptionStyleModel",
            "_view_count": null,
            "_view_module": "@jupyter-widgets/base",
            "_view_module_version": "1.2.0",
            "_view_name": "StyleView",
            "description_width": ""
          }
        },
        "0a08ef9c59264c5e86ea58a69bc4ee1b": {
          "model_module": "@jupyter-widgets/controls",
          "model_name": "HBoxModel",
          "model_module_version": "1.5.0",
          "state": {
            "_dom_classes": [],
            "_model_module": "@jupyter-widgets/controls",
            "_model_module_version": "1.5.0",
            "_model_name": "HBoxModel",
            "_view_count": null,
            "_view_module": "@jupyter-widgets/controls",
            "_view_module_version": "1.5.0",
            "_view_name": "HBoxView",
            "box_style": "",
            "children": [
              "IPY_MODEL_09c350df176048a0b273382ab24eff35",
              "IPY_MODEL_84b339b85a87406aa35f0b2fa9ed7d80",
              "IPY_MODEL_412f4078e4fc41aca5f64d49616bfe62"
            ],
            "layout": "IPY_MODEL_86523f71f7ac4d74a6d06a7d0b46f60b"
          }
        },
        "09c350df176048a0b273382ab24eff35": {
          "model_module": "@jupyter-widgets/controls",
          "model_name": "HTMLModel",
          "model_module_version": "1.5.0",
          "state": {
            "_dom_classes": [],
            "_model_module": "@jupyter-widgets/controls",
            "_model_module_version": "1.5.0",
            "_model_name": "HTMLModel",
            "_view_count": null,
            "_view_module": "@jupyter-widgets/controls",
            "_view_module_version": "1.5.0",
            "_view_name": "HTMLView",
            "description": "",
            "description_tooltip": null,
            "layout": "IPY_MODEL_f57180f4bd2d49a08c53b28396505d4f",
            "placeholder": "​",
            "style": "IPY_MODEL_ca32fa4e462e4909afb0f56e26a404c7",
            "value": ""
          }
        },
        "84b339b85a87406aa35f0b2fa9ed7d80": {
          "model_module": "@jupyter-widgets/controls",
          "model_name": "FloatProgressModel",
          "model_module_version": "1.5.0",
          "state": {
            "_dom_classes": [],
            "_model_module": "@jupyter-widgets/controls",
            "_model_module_version": "1.5.0",
            "_model_name": "FloatProgressModel",
            "_view_count": null,
            "_view_module": "@jupyter-widgets/controls",
            "_view_module_version": "1.5.0",
            "_view_name": "ProgressView",
            "bar_style": "success",
            "description": "",
            "description_tooltip": null,
            "layout": "IPY_MODEL_e2636a1cfe774765b9a34f4509a450c0",
            "max": 170498071,
            "min": 0,
            "orientation": "horizontal",
            "style": "IPY_MODEL_1c090a74df2e45fab1fdc49ce94a524d",
            "value": 170498071
          }
        },
        "412f4078e4fc41aca5f64d49616bfe62": {
          "model_module": "@jupyter-widgets/controls",
          "model_name": "HTMLModel",
          "model_module_version": "1.5.0",
          "state": {
            "_dom_classes": [],
            "_model_module": "@jupyter-widgets/controls",
            "_model_module_version": "1.5.0",
            "_model_name": "HTMLModel",
            "_view_count": null,
            "_view_module": "@jupyter-widgets/controls",
            "_view_module_version": "1.5.0",
            "_view_name": "HTMLView",
            "description": "",
            "description_tooltip": null,
            "layout": "IPY_MODEL_8cc829c5d5aa4b94a092da66e42465dd",
            "placeholder": "​",
            "style": "IPY_MODEL_ed27964de9794d95a047cec91435124b",
            "value": " 170499072/? [00:13&lt;00:00, 16461188.99it/s]"
          }
        },
        "86523f71f7ac4d74a6d06a7d0b46f60b": {
          "model_module": "@jupyter-widgets/base",
          "model_name": "LayoutModel",
          "model_module_version": "1.2.0",
          "state": {
            "_model_module": "@jupyter-widgets/base",
            "_model_module_version": "1.2.0",
            "_model_name": "LayoutModel",
            "_view_count": null,
            "_view_module": "@jupyter-widgets/base",
            "_view_module_version": "1.2.0",
            "_view_name": "LayoutView",
            "align_content": null,
            "align_items": null,
            "align_self": null,
            "border": null,
            "bottom": null,
            "display": null,
            "flex": null,
            "flex_flow": null,
            "grid_area": null,
            "grid_auto_columns": null,
            "grid_auto_flow": null,
            "grid_auto_rows": null,
            "grid_column": null,
            "grid_gap": null,
            "grid_row": null,
            "grid_template_areas": null,
            "grid_template_columns": null,
            "grid_template_rows": null,
            "height": null,
            "justify_content": null,
            "justify_items": null,
            "left": null,
            "margin": null,
            "max_height": null,
            "max_width": null,
            "min_height": null,
            "min_width": null,
            "object_fit": null,
            "object_position": null,
            "order": null,
            "overflow": null,
            "overflow_x": null,
            "overflow_y": null,
            "padding": null,
            "right": null,
            "top": null,
            "visibility": null,
            "width": null
          }
        },
        "f57180f4bd2d49a08c53b28396505d4f": {
          "model_module": "@jupyter-widgets/base",
          "model_name": "LayoutModel",
          "model_module_version": "1.2.0",
          "state": {
            "_model_module": "@jupyter-widgets/base",
            "_model_module_version": "1.2.0",
            "_model_name": "LayoutModel",
            "_view_count": null,
            "_view_module": "@jupyter-widgets/base",
            "_view_module_version": "1.2.0",
            "_view_name": "LayoutView",
            "align_content": null,
            "align_items": null,
            "align_self": null,
            "border": null,
            "bottom": null,
            "display": null,
            "flex": null,
            "flex_flow": null,
            "grid_area": null,
            "grid_auto_columns": null,
            "grid_auto_flow": null,
            "grid_auto_rows": null,
            "grid_column": null,
            "grid_gap": null,
            "grid_row": null,
            "grid_template_areas": null,
            "grid_template_columns": null,
            "grid_template_rows": null,
            "height": null,
            "justify_content": null,
            "justify_items": null,
            "left": null,
            "margin": null,
            "max_height": null,
            "max_width": null,
            "min_height": null,
            "min_width": null,
            "object_fit": null,
            "object_position": null,
            "order": null,
            "overflow": null,
            "overflow_x": null,
            "overflow_y": null,
            "padding": null,
            "right": null,
            "top": null,
            "visibility": null,
            "width": null
          }
        },
        "ca32fa4e462e4909afb0f56e26a404c7": {
          "model_module": "@jupyter-widgets/controls",
          "model_name": "DescriptionStyleModel",
          "model_module_version": "1.5.0",
          "state": {
            "_model_module": "@jupyter-widgets/controls",
            "_model_module_version": "1.5.0",
            "_model_name": "DescriptionStyleModel",
            "_view_count": null,
            "_view_module": "@jupyter-widgets/base",
            "_view_module_version": "1.2.0",
            "_view_name": "StyleView",
            "description_width": ""
          }
        },
        "e2636a1cfe774765b9a34f4509a450c0": {
          "model_module": "@jupyter-widgets/base",
          "model_name": "LayoutModel",
          "model_module_version": "1.2.0",
          "state": {
            "_model_module": "@jupyter-widgets/base",
            "_model_module_version": "1.2.0",
            "_model_name": "LayoutModel",
            "_view_count": null,
            "_view_module": "@jupyter-widgets/base",
            "_view_module_version": "1.2.0",
            "_view_name": "LayoutView",
            "align_content": null,
            "align_items": null,
            "align_self": null,
            "border": null,
            "bottom": null,
            "display": null,
            "flex": null,
            "flex_flow": null,
            "grid_area": null,
            "grid_auto_columns": null,
            "grid_auto_flow": null,
            "grid_auto_rows": null,
            "grid_column": null,
            "grid_gap": null,
            "grid_row": null,
            "grid_template_areas": null,
            "grid_template_columns": null,
            "grid_template_rows": null,
            "height": null,
            "justify_content": null,
            "justify_items": null,
            "left": null,
            "margin": null,
            "max_height": null,
            "max_width": null,
            "min_height": null,
            "min_width": null,
            "object_fit": null,
            "object_position": null,
            "order": null,
            "overflow": null,
            "overflow_x": null,
            "overflow_y": null,
            "padding": null,
            "right": null,
            "top": null,
            "visibility": null,
            "width": null
          }
        },
        "1c090a74df2e45fab1fdc49ce94a524d": {
          "model_module": "@jupyter-widgets/controls",
          "model_name": "ProgressStyleModel",
          "model_module_version": "1.5.0",
          "state": {
            "_model_module": "@jupyter-widgets/controls",
            "_model_module_version": "1.5.0",
            "_model_name": "ProgressStyleModel",
            "_view_count": null,
            "_view_module": "@jupyter-widgets/base",
            "_view_module_version": "1.2.0",
            "_view_name": "StyleView",
            "bar_color": null,
            "description_width": ""
          }
        },
        "8cc829c5d5aa4b94a092da66e42465dd": {
          "model_module": "@jupyter-widgets/base",
          "model_name": "LayoutModel",
          "model_module_version": "1.2.0",
          "state": {
            "_model_module": "@jupyter-widgets/base",
            "_model_module_version": "1.2.0",
            "_model_name": "LayoutModel",
            "_view_count": null,
            "_view_module": "@jupyter-widgets/base",
            "_view_module_version": "1.2.0",
            "_view_name": "LayoutView",
            "align_content": null,
            "align_items": null,
            "align_self": null,
            "border": null,
            "bottom": null,
            "display": null,
            "flex": null,
            "flex_flow": null,
            "grid_area": null,
            "grid_auto_columns": null,
            "grid_auto_flow": null,
            "grid_auto_rows": null,
            "grid_column": null,
            "grid_gap": null,
            "grid_row": null,
            "grid_template_areas": null,
            "grid_template_columns": null,
            "grid_template_rows": null,
            "height": null,
            "justify_content": null,
            "justify_items": null,
            "left": null,
            "margin": null,
            "max_height": null,
            "max_width": null,
            "min_height": null,
            "min_width": null,
            "object_fit": null,
            "object_position": null,
            "order": null,
            "overflow": null,
            "overflow_x": null,
            "overflow_y": null,
            "padding": null,
            "right": null,
            "top": null,
            "visibility": null,
            "width": null
          }
        },
        "ed27964de9794d95a047cec91435124b": {
          "model_module": "@jupyter-widgets/controls",
          "model_name": "DescriptionStyleModel",
          "model_module_version": "1.5.0",
          "state": {
            "_model_module": "@jupyter-widgets/controls",
            "_model_module_version": "1.5.0",
            "_model_name": "DescriptionStyleModel",
            "_view_count": null,
            "_view_module": "@jupyter-widgets/base",
            "_view_module_version": "1.2.0",
            "_view_name": "StyleView",
            "description_width": ""
          }
        }
      }
    }
  },
  "cells": [
    {
      "cell_type": "markdown",
      "metadata": {
        "id": "zmwWs4S9cRIn"
      },
      "source": [
        "# ECE 57000 Assignment 4 Exercise\n",
        "\n",
        "Your Name: Ti-Wei Chen"
      ]
    },
    {
      "cell_type": "markdown",
      "metadata": {
        "id": "Vmlsa88cqmib"
      },
      "source": [
        "## Exercise 0: Train your model on GPU (0 points)"
      ]
    },
    {
      "cell_type": "markdown",
      "metadata": {
        "id": "WfirXJR3qvB0"
      },
      "source": [
        "For some tasks in this assignment, it can take a long time if you run it on CPU. For example, based on our test on Exercise 3 Task 4, it will take roughly 2 hours to train the full model for 1 epoch on CPU. Hence, we highly recommend you try to train your model on GPU.\n",
        "\n",
        "To do so, first you need to enable GPU on Colab (this will restart the runtime). Click `Runtime`-> `Change runtime type` and select the `Hardware accelerator` there.  You can then run the following code to see if the GPU is correctly initialized and available.\n",
        "\n"
      ]
    },
    {
      "cell_type": "code",
      "metadata": {
        "id": "TT7wKvilvBvX",
        "colab": {
          "base_uri": "https://localhost:8080/"
        },
        "outputId": "79ea92b3-29b7-4e59-825d-72d3c0e49d97"
      },
      "source": [
        "import torch\n",
        "print(f'Can I can use GPU now? -- {torch.cuda.is_available()}')"
      ],
      "execution_count": 1,
      "outputs": [
        {
          "output_type": "stream",
          "name": "stdout",
          "text": [
            "Can I can use GPU now? -- True\n"
          ]
        }
      ]
    },
    {
      "cell_type": "markdown",
      "metadata": {
        "id": "hnPPDoA7vQWp"
      },
      "source": [
        "### You must manually move your model and data to the GPU (and sometimes back to the cpu)\n",
        "After setting the GPU up on colab, then you should put your **model** and **data** to GPU. We give a simple example below. You can use `to` function for this task. See [torch.Tensor.to](https://pytorch.org/docs/stable/generated/torch.Tensor.to.html) to move a tensor to the GPU (probably your mini-batch of data in each iteration) or [torch.nn.Module.to](https://pytorch.org/docs/stable/generated/torch.nn.Module.html#torch.nn.Module.to) to move your NN model to GPU (assuming you create subclass [torch.nn.Module](https://pytorch.org/docs/stable/generated/torch.nn.Module.html)). Note that `to()` of tensor returns a NEW tensor while `to` of a NN model will apply this in-place. To be safe, the best semantics are `obj = obj.to(device)`. For printing, you will need to move a tensor back to the CPU via the `cpu()` function.\n",
        "\n",
        "Once the model and input data are on the GPU, everything else can be done the same.  This is the beauty of PyTorch GPU acceleration.  None of the other code needs to be altered.\n",
        "\n",
        "To summarize, you need to 1) enable GPU acceleration in Colab, 2) put the model on the GPU, and 3) put the input data (i.e., the batch of samples) onto the GPU using `to()` after it is loaded by the data loaders (usually you only put one batch of data on the GPU at a time)."
      ]
    },
    {
      "cell_type": "code",
      "metadata": {
        "id": "lUdR8v7Kt-6S",
        "colab": {
          "base_uri": "https://localhost:8080/"
        },
        "outputId": "5f1a6232-6dd7-4b8f-9956-964345cc4177"
      },
      "source": [
        "import torch.nn as nn\n",
        "rand_tensor = torch.rand(5,2)\n",
        "simple_model = nn.Sequential(nn.Linear(2,10), nn.ReLU(), nn.Linear(10,1))\n",
        "print(f'input is on {rand_tensor.device}')\n",
        "print(f'model parameters are on {[param.device for param in simple_model.parameters()]}')\n",
        "print(f'output is on {simple_model(rand_tensor).device}')\n",
        "\n",
        "device = torch.device('cuda')\n",
        "# Move rand_tensor and model onto the GPU device\n",
        "\n",
        "simple_model = simple_model.to(device)\n",
        "rand_tensor = rand_tensor.to(device)\n",
        "\n",
        "print(f'input is on {rand_tensor.device}')\n",
        "print(f'model parameters are on {[param.device for param in simple_model.parameters()]}')\n",
        "print(f'output is on {simple_model(rand_tensor).device}')"
      ],
      "execution_count": 2,
      "outputs": [
        {
          "output_type": "stream",
          "name": "stdout",
          "text": [
            "input is on cpu\n",
            "model parameters are on [device(type='cpu'), device(type='cpu'), device(type='cpu'), device(type='cpu')]\n",
            "output is on cpu\n",
            "input is on cuda:0\n",
            "model parameters are on [device(type='cuda', index=0), device(type='cuda', index=0), device(type='cuda', index=0), device(type='cuda', index=0)]\n",
            "output is on cuda:0\n"
          ]
        }
      ]
    },
    {
      "cell_type": "markdown",
      "metadata": {
        "id": "Zz2T0QYYpwVR"
      },
      "source": [
        "## Exercise 1: Why use a CNN rather than only fully connected layers? (30 points)\n",
        "\n",
        "In this exercise, you will build two models for the **MNIST** dataset: one uses only fully connected layers and another uses a standard CNN layout (convolution layers everywhere except the last layer is fully connected layer). The two models should be built with roughly the same accuracy performance, your task is to compare the number of network parameters (a huge number of parameters can affect training/testing time, memory requirements, overfitting, etc.)."
      ]
    },
    {
      "cell_type": "markdown",
      "metadata": {
        "id": "DFKqew7r-E-q"
      },
      "source": [
        "### Task 1: Following the structure used in the instructions, you should create\n",
        "\n",
        "*   One network named **OurFC** which should consist with only fully connected layers\n",
        "\n",
        "  *   You should decide how many layers and how many hidden dimensions you want in your network \n",
        "  *   Your final accuracy on the test dataset should lie roughly around 90% ($\\pm$2%)\n",
        "  *   There is no need to make the neural network unnecessarily complex, your total training time should no longer than 3 mins\n",
        "\n",
        "*   Another network named **OurCNN** which applys a standard CNN structure\n",
        "  *   Again, you should decide how many layers and how many channels you want for each layer.\n",
        "  *   Your final accuracy on the test dataset should lie roughly around 90% ($\\pm$2%)\n",
        "  *   A standard CNN structure can be composed as **[Conv2d, MaxPooling, ReLU] x num_conv_layers + FC x num_fc_layers**\n",
        "\n",
        "* Train and test your network on MNIST data as in the instructions\n",
        "* You are **required** to print out the loss in the training and loss+accuracy in the test as in the instructions."
      ]
    },
    {
      "cell_type": "code",
      "metadata": {
        "id": "FIVO5T4JgA_N",
        "colab": {
          "base_uri": "https://localhost:8080/",
          "height": 1000,
          "referenced_widgets": [
            "6a72c5c306db4510a526cc9467052c99",
            "8da691033c004f36ab4ea475640049cd",
            "d752f28be2e44ddca9b7fec01dd79228",
            "77e7b3e4084a4d1b96ea44e2c3e28c9d",
            "3317e950ea3549548d7df3bf638b9afe",
            "fa4a7fb7b946436388da78dbd6c92153",
            "0ab252d7fd8a48a1bb70471a0f0a0854",
            "49839a74318748d491c0e1811ae1bf28",
            "841b982050c546ecaa26c07c5efefebd",
            "fea7b5d619ff47b88d582a26417ce4c6",
            "729a7a07ff82497e8bdc9a0845d24a8d",
            "d492d124203547668a0b22252486b1d7",
            "cf7d557937c34898ba4da77f6c53f428",
            "d3eaa2fb63064b008a340a0c86f110b9",
            "b7e1837c3f224516bf24c29440e4ea67",
            "95623ed219024186a4d5a31ec2cb3473",
            "6a54712eb82340f0b8bb4906172d8118",
            "e6788a946ec54afcabced4f3e1731a35",
            "d33383eaa06e4ae4b3a692c1b861c75e",
            "4d4c86b337874c7d87e7adc0d06fc725",
            "0baca86106ca4415ad6eb6f56083fb93",
            "823025ca88a24c5ea2e55bc66d20e576",
            "33e4208df8a0458088a5ea8f37171d1f",
            "4c5dbb49ee2448978f6fa6c7ac9b0bf4",
            "afb7469969034b7689c1b0c3fded22d1",
            "69ca2749f93f42f7aa0a85a0f48384d5",
            "0b2187e0e80c4cc4a4d899ee9b94ab2a",
            "2a0c2f15b74c468190cee8c3c71452ed",
            "1e18092cbc6746b0a4f63bddf536d473",
            "8f56e5647bc441afaaa8c4aee0e902af",
            "db826413ac9e45aea5c68eacc79c7621",
            "40657bbaa6384e7f857531161c96b662",
            "d7177a6db8764c6a9db6ab52fc017094",
            "a3dc6c9162704b1d9098fd63f2708ecd",
            "01422c5642dc44eda9564eb7c7ed1392",
            "6cfac089b4cc412f8a0fa93a29089cbe",
            "354ac199d22043f3900384843ee3e3a3",
            "2b9bfd7202854de68e9d8937d11ef071",
            "e531f23659ba44d0a028f784b7201821",
            "4be144b088b54fad99f331aa56cf0fa4",
            "9eb00afeb4074549b79a4ad86e87c759",
            "5b7d691f385c4c508b9f7023a5a70260",
            "3248f2185df746ff85b7db07f5ce9afd",
            "76c609cc0f76424b8652aa11288516aa"
          ]
        },
        "outputId": "2a4944b7-3164-42c1-fbd1-38f0a869ff34"
      },
      "source": [
        "import torch\n",
        "import torchvision\n",
        "import matplotlib.pyplot as plt\n",
        "import torch.nn as nn\n",
        "import torch.nn.functional as F\n",
        "import torch.optim as optim\n",
        "\n",
        "\"\"\"\n",
        "Here the transform is a pipeline containing two seperate transforms: \n",
        "1. Transform the data into tensor type\n",
        "2. Normalize the dataset by a giving mean and std. \n",
        "  (Those number is given as the global mean and standard deviation of MNIST dataset)\n",
        "\"\"\"\n",
        "transform = torchvision.transforms.Compose(\n",
        "    [torchvision.transforms.ToTensor(),\n",
        "     torchvision.transforms.Normalize((0.1307,),(0.3081,))]\n",
        "     )\n",
        "\n",
        "train_dataset = torchvision.datasets.MNIST('/data', train=True, download=True, transform=transform)\n",
        "test_dataset = torchvision.datasets.MNIST('/data', train=False, download=True, transform=transform)\n",
        "\n",
        "batch_size_train, batch_size_test = 64, 1000\n",
        "\n",
        "train_loader = torch.utils.data.DataLoader(train_dataset, batch_size=batch_size_train, shuffle=True)\n",
        "test_loader = torch.utils.data.DataLoader(test_dataset, batch_size=batch_size_test, shuffle=False)\n",
        "\n",
        "# (Batchsize x Channel x Height x Width)\n",
        "batch_idx, (images, targets) = next(enumerate(train_loader))\n",
        "\n",
        "def plot_visualize():\n",
        "  print(f'current batch index is {batch_idx}')\n",
        "  print(f'images has shape {images.size()}')\n",
        "  print(f'targets has shape {targets.size()}')\n",
        "  fig, ax = plt.subplots(3,3)\n",
        "  fig.set_size_inches(12,12)\n",
        "\n",
        "  for i in range(3):\n",
        "    for j in range(3):\n",
        "      ax[i,j].imshow(images[i*3+j][0], cmap='gray')\n",
        "      ax[i,j].set_title(f'label {targets[i*3+j]}')\n",
        "  fig.show()\n",
        "\n",
        "def train(classifier, epoch):\n",
        "\n",
        "  classifier.train() # we need to set the mode for our model\n",
        "\n",
        "  for batch_idx, (images, targets) in enumerate(train_loader):\n",
        "\n",
        "    optimizer.zero_grad()\n",
        "    output = classifier(images)\n",
        "    loss = F.nll_loss(output, targets) # Here is a typical loss function (negative log likelihood)\n",
        "    loss.backward()\n",
        "    optimizer.step()\n",
        "\n",
        "    if batch_idx % 10 == 0: # We record our output every 10 batches\n",
        "      train_losses.append(loss.item()) # item() is to get the value of the tensor directly\n",
        "      train_counter.append(\n",
        "        (batch_idx*64) + ((epoch-1)*len(train_loader.dataset)))\n",
        "    if batch_idx % 100 == 0: # We visulize our output every 10 batches\n",
        "      print(f'Epoch {epoch}: [{batch_idx*len(images)}/{len(train_loader.dataset)}] Loss: {loss.item()}')\n",
        "\n",
        "def test(classifier, epoch):\n",
        "\n",
        "  classifier.eval() # we need to set the mode for our model\n",
        "\n",
        "  test_loss = 0\n",
        "  correct = 0\n",
        "\n",
        "  with torch.no_grad():\n",
        "    for images, targets in test_loader:\n",
        "      output = classifier(images)\n",
        "      test_loss += F.nll_loss(output, targets, reduction='sum').item()\n",
        "      pred = output.data.max(1, keepdim=True)[1] # we get the estimate of our result by look at the largest class value\n",
        "      correct += pred.eq(targets.data.view_as(pred)).sum() # sum up the corrected samples\n",
        "  \n",
        "  test_loss /= len(test_loader.dataset)\n",
        "  test_losses.append(test_loss)\n",
        "  test_counter.append(len(train_loader.dataset)*epoch)\n",
        "\n",
        "  print(f'Test result on epoch {epoch}: Avg loss is {test_loss}, Accuracy: {100.*correct/len(test_loader.dataset)}%')\n",
        "\n",
        "class OurFC(nn.Module):\n",
        "\n",
        "  def __init__(self):\n",
        "    super(OurFC, self).__init__()\n",
        "\n",
        "    self.fc1 = nn.Linear(784,128)\n",
        "    self.relu = nn.ReLU()\n",
        "    self.fc2 = nn.Linear(128,10)\n",
        "    self.name = \"OurFC\"\n",
        "    \n",
        "  def forward(self, x):\n",
        "    x = x.view(-1,784)\n",
        "    x = self.fc1(x)\n",
        "    x = self.relu(x)\n",
        "    x = self.fc2(x)\n",
        "    return F.log_softmax(x,-1)\n",
        "\n",
        "class OurCNN(nn.Module):\n",
        "\n",
        "  def __init__(self):\n",
        "    super(OurCNN, self).__init__()\n",
        "\n",
        "    self.conv = nn.Conv2d(1,3,kernel_size=5)\n",
        "    self.fc = nn.Linear(432,10)\n",
        "    self.name = \"OurCNN\"\n",
        "  \n",
        "  def forward(self, x):\n",
        "    x = self.conv(x)\n",
        "    x = F.relu(F.max_pool2d(x,2))\n",
        "    x = x.view(-1,432)\n",
        "    x = F.relu(self.fc(x))\n",
        "    return F.log_softmax(x,-1)\n",
        "\n",
        "# Test Accuracy for OurFC\n",
        "classifier = OurFC()\n",
        "fc_classifier = classifier\n",
        "optimizer = optim.SGD(classifier.parameters(), lr=0.01, momentum=0.8)\n",
        "\n",
        "train_losses = []\n",
        "train_counter = []\n",
        "test_losses = []\n",
        "test_counter = []\n",
        "max_epoch = 3\n",
        "\n",
        "print(\"Test for Fully Connected Network:\\n\")\n",
        "for epoch in range(1, max_epoch+1):\n",
        "  train(classifier, epoch)\n",
        "  test(classifier, epoch)\n",
        "\n",
        "# Test Accuracy for OurCNN\n",
        "classifier = OurCNN()\n",
        "cnn_classifier = classifier\n",
        "optimizer = optim.SGD(classifier.parameters(), lr=0.01, momentum=0.8)\n",
        "\n",
        "train_losses = []\n",
        "train_counter = []\n",
        "test_losses = []\n",
        "test_counter = []\n",
        "max_epoch = 3\n",
        "\n",
        "print(\"Test for Convolutional Neural Network:\\n\")\n",
        "for epoch in range(1, max_epoch+1):\n",
        "  train(classifier, epoch)\n",
        "  test(classifier, epoch)\n"
      ],
      "execution_count": 3,
      "outputs": [
        {
          "output_type": "stream",
          "name": "stdout",
          "text": [
            "Downloading http://yann.lecun.com/exdb/mnist/train-images-idx3-ubyte.gz\n",
            "Downloading http://yann.lecun.com/exdb/mnist/train-images-idx3-ubyte.gz to /data/MNIST/raw/train-images-idx3-ubyte.gz\n"
          ]
        },
        {
          "output_type": "display_data",
          "data": {
            "text/plain": [
              "  0%|          | 0/9912422 [00:00<?, ?it/s]"
            ],
            "application/vnd.jupyter.widget-view+json": {
              "version_major": 2,
              "version_minor": 0,
              "model_id": "6a72c5c306db4510a526cc9467052c99"
            }
          },
          "metadata": {}
        },
        {
          "output_type": "stream",
          "name": "stdout",
          "text": [
            "Extracting /data/MNIST/raw/train-images-idx3-ubyte.gz to /data/MNIST/raw\n",
            "\n",
            "Downloading http://yann.lecun.com/exdb/mnist/train-labels-idx1-ubyte.gz\n",
            "Downloading http://yann.lecun.com/exdb/mnist/train-labels-idx1-ubyte.gz to /data/MNIST/raw/train-labels-idx1-ubyte.gz\n"
          ]
        },
        {
          "output_type": "display_data",
          "data": {
            "text/plain": [
              "  0%|          | 0/28881 [00:00<?, ?it/s]"
            ],
            "application/vnd.jupyter.widget-view+json": {
              "version_major": 2,
              "version_minor": 0,
              "model_id": "d492d124203547668a0b22252486b1d7"
            }
          },
          "metadata": {}
        },
        {
          "output_type": "stream",
          "name": "stdout",
          "text": [
            "Extracting /data/MNIST/raw/train-labels-idx1-ubyte.gz to /data/MNIST/raw\n",
            "\n",
            "Downloading http://yann.lecun.com/exdb/mnist/t10k-images-idx3-ubyte.gz\n",
            "Downloading http://yann.lecun.com/exdb/mnist/t10k-images-idx3-ubyte.gz to /data/MNIST/raw/t10k-images-idx3-ubyte.gz\n"
          ]
        },
        {
          "output_type": "display_data",
          "data": {
            "text/plain": [
              "  0%|          | 0/1648877 [00:00<?, ?it/s]"
            ],
            "application/vnd.jupyter.widget-view+json": {
              "version_major": 2,
              "version_minor": 0,
              "model_id": "33e4208df8a0458088a5ea8f37171d1f"
            }
          },
          "metadata": {}
        },
        {
          "output_type": "stream",
          "name": "stdout",
          "text": [
            "Extracting /data/MNIST/raw/t10k-images-idx3-ubyte.gz to /data/MNIST/raw\n",
            "\n",
            "Downloading http://yann.lecun.com/exdb/mnist/t10k-labels-idx1-ubyte.gz\n",
            "Downloading http://yann.lecun.com/exdb/mnist/t10k-labels-idx1-ubyte.gz to /data/MNIST/raw/t10k-labels-idx1-ubyte.gz\n"
          ]
        },
        {
          "output_type": "display_data",
          "data": {
            "text/plain": [
              "  0%|          | 0/4542 [00:00<?, ?it/s]"
            ],
            "application/vnd.jupyter.widget-view+json": {
              "version_major": 2,
              "version_minor": 0,
              "model_id": "a3dc6c9162704b1d9098fd63f2708ecd"
            }
          },
          "metadata": {}
        },
        {
          "output_type": "stream",
          "name": "stdout",
          "text": [
            "Extracting /data/MNIST/raw/t10k-labels-idx1-ubyte.gz to /data/MNIST/raw\n",
            "\n",
            "Test for Fully Connected Network:\n",
            "\n",
            "Epoch 1: [0/60000] Loss: 2.3250715732574463\n",
            "Epoch 1: [6400/60000] Loss: 0.38214167952537537\n",
            "Epoch 1: [12800/60000] Loss: 0.4007812738418579\n",
            "Epoch 1: [19200/60000] Loss: 0.39026543498039246\n",
            "Epoch 1: [25600/60000] Loss: 0.21322126686573029\n",
            "Epoch 1: [32000/60000] Loss: 0.2588394582271576\n",
            "Epoch 1: [38400/60000] Loss: 0.42985787987709045\n",
            "Epoch 1: [44800/60000] Loss: 0.28188851475715637\n",
            "Epoch 1: [51200/60000] Loss: 0.36455637216567993\n",
            "Epoch 1: [57600/60000] Loss: 0.10858882963657379\n",
            "Test result on epoch 1: Avg loss is 0.19077969284057616, Accuracy: 94.37000274658203%\n",
            "Epoch 2: [0/60000] Loss: 0.09300415962934494\n",
            "Epoch 2: [6400/60000] Loss: 0.4474279284477234\n",
            "Epoch 2: [12800/60000] Loss: 0.1574976146221161\n",
            "Epoch 2: [19200/60000] Loss: 0.19349713623523712\n",
            "Epoch 2: [25600/60000] Loss: 0.24524925649166107\n",
            "Epoch 2: [32000/60000] Loss: 0.11405446380376816\n",
            "Epoch 2: [38400/60000] Loss: 0.0790606364607811\n",
            "Epoch 2: [44800/60000] Loss: 0.31003591418266296\n",
            "Epoch 2: [51200/60000] Loss: 0.15461738407611847\n",
            "Epoch 2: [57600/60000] Loss: 0.2713707685470581\n",
            "Test result on epoch 2: Avg loss is 0.12810789985656737, Accuracy: 96.18000030517578%\n",
            "Epoch 3: [0/60000] Loss: 0.18939203023910522\n",
            "Epoch 3: [6400/60000] Loss: 0.07521339505910873\n",
            "Epoch 3: [12800/60000] Loss: 0.10750342160463333\n",
            "Epoch 3: [19200/60000] Loss: 0.06511866301298141\n",
            "Epoch 3: [25600/60000] Loss: 0.1210925281047821\n",
            "Epoch 3: [32000/60000] Loss: 0.08809828013181686\n",
            "Epoch 3: [38400/60000] Loss: 0.1094842329621315\n",
            "Epoch 3: [44800/60000] Loss: 0.057139504700899124\n",
            "Epoch 3: [51200/60000] Loss: 0.0679672360420227\n",
            "Epoch 3: [57600/60000] Loss: 0.05469382181763649\n",
            "Test result on epoch 3: Avg loss is 0.1108241195678711, Accuracy: 96.76000213623047%\n",
            "Test for Convolutional Neural Network:\n",
            "\n",
            "Epoch 1: [0/60000] Loss: 2.3792335987091064\n",
            "Epoch 1: [6400/60000] Loss: 1.0048056840896606\n",
            "Epoch 1: [12800/60000] Loss: 0.3813938796520233\n",
            "Epoch 1: [19200/60000] Loss: 0.730776309967041\n",
            "Epoch 1: [25600/60000] Loss: 0.5169795751571655\n",
            "Epoch 1: [32000/60000] Loss: 0.38899165391921997\n",
            "Epoch 1: [38400/60000] Loss: 0.39800819754600525\n",
            "Epoch 1: [44800/60000] Loss: 0.22915488481521606\n",
            "Epoch 1: [51200/60000] Loss: 0.2441800981760025\n",
            "Epoch 1: [57600/60000] Loss: 0.2673282325267792\n",
            "Test result on epoch 1: Avg loss is 0.1919461898803711, Accuracy: 94.1500015258789%\n",
            "Epoch 2: [0/60000] Loss: 0.26028820872306824\n",
            "Epoch 2: [6400/60000] Loss: 0.2516931891441345\n",
            "Epoch 2: [12800/60000] Loss: 0.17084114253520966\n",
            "Epoch 2: [19200/60000] Loss: 0.2698614299297333\n",
            "Epoch 2: [25600/60000] Loss: 0.20324352383613586\n",
            "Epoch 2: [32000/60000] Loss: 0.2911306619644165\n",
            "Epoch 2: [38400/60000] Loss: 0.39982226490974426\n",
            "Epoch 2: [44800/60000] Loss: 0.24801567196846008\n",
            "Epoch 2: [51200/60000] Loss: 0.05544530972838402\n",
            "Epoch 2: [57600/60000] Loss: 0.3308558464050293\n",
            "Test result on epoch 2: Avg loss is 0.13044684410095214, Accuracy: 96.05000305175781%\n",
            "Epoch 3: [0/60000] Loss: 0.13286559283733368\n",
            "Epoch 3: [6400/60000] Loss: 0.05352417007088661\n",
            "Epoch 3: [12800/60000] Loss: 0.05878664553165436\n",
            "Epoch 3: [19200/60000] Loss: 0.10478711873292923\n",
            "Epoch 3: [25600/60000] Loss: 0.05957697704434395\n",
            "Epoch 3: [32000/60000] Loss: 0.11885654926300049\n",
            "Epoch 3: [38400/60000] Loss: 0.05428346246480942\n",
            "Epoch 3: [44800/60000] Loss: 0.044225338846445084\n",
            "Epoch 3: [51200/60000] Loss: 0.0661008358001709\n",
            "Epoch 3: [57600/60000] Loss: 0.15636926889419556\n",
            "Test result on epoch 3: Avg loss is 0.10474846420288086, Accuracy: 96.73999786376953%\n"
          ]
        }
      ]
    },
    {
      "cell_type": "markdown",
      "metadata": {
        "id": "8fJY7m55fObt"
      },
      "source": [
        "### Task 2: Compare the number of parameters that are used in both your neural networks by printing out the total number of parameters for both of your networks."
      ]
    },
    {
      "cell_type": "markdown",
      "metadata": {
        "id": "JEVoEH2QLvv0"
      },
      "source": [
        "**Note:** You need to clearly show which number corresponds to which network."
      ]
    },
    {
      "cell_type": "code",
      "metadata": {
        "id": "JrjN1dr_f-lc",
        "colab": {
          "base_uri": "https://localhost:8080/"
        },
        "outputId": "eae30606-b18e-46c8-b461-c2809601e156"
      },
      "source": [
        "def param_num(classifier):\n",
        "  optimizer = optim.SGD(classifier.parameters(),lr=0.01,momentum=0.8)\n",
        "  total_params = sum(p.numel() for p in classifier.parameters())\n",
        "  print(f'{classifier.name} neural network has total number of {total_params} parameters.')\n",
        "\n",
        "param_num(fc_classifier)\n",
        "param_num(cnn_classifier)"
      ],
      "execution_count": 4,
      "outputs": [
        {
          "output_type": "stream",
          "name": "stdout",
          "text": [
            "OurFC neural network has total number of 101770 parameters.\n",
            "OurCNN neural network has total number of 4408 parameters.\n"
          ]
        }
      ]
    },
    {
      "cell_type": "markdown",
      "metadata": {
        "id": "v5oMKOrhmfpM"
      },
      "source": [
        "Questions (0 points, just for understanding): Which one has more parameters?  Which one is likely to have less computational cost when deployed? Which one took longer to train?\n",
        "\n",
        "Fully connected layers network have more paremeters, have more computational cost and took longer to train."
      ]
    },
    {
      "cell_type": "markdown",
      "metadata": {
        "id": "290mOBEHgEXr"
      },
      "source": [
        "## Exercise 2: Train classifier on CIFAR-10 data. (30 points)\n",
        "Now, lets move our dataset to color images. CIFAR-10 dataset is another widely used dataset. Here all images have colors, i.e each image has 3 color channels instead of only one channel in MNIST. You need to pay more attention to the dimension of the data as it passes through the layers of your network."
      ]
    },
    {
      "cell_type": "markdown",
      "metadata": {
        "id": "IHClZywoGwWt"
      },
      "source": [
        "### Task 1: Create data loaders and plot images\n",
        "Set up a `train_loader` and `test_loader` for the CIFAR-10 data, and plot a figure:\n",
        "\n",
        "*   3 x 3 subplot\n",
        "*   each subplot is a randomly chosen image from the test dataset\n",
        "*   label each image with its label\n",
        "\n",
        "The corresponding names of the classes is given as \n",
        "`classes = ('plane', 'car', 'bird', 'cat', 'deer', 'dog', 'frog', 'horse', 'ship', 'truck')`\n",
        "\n",
        "Note: In your transforms, the normalizing constant is given as `transforms.Normalize((0.5, 0.5, 0.5), (0.5, 0.5, 0.5))])`"
      ]
    },
    {
      "cell_type": "code",
      "metadata": {
        "id": "oobbO_pGhYbs",
        "colab": {
          "base_uri": "https://localhost:8080/",
          "height": 800,
          "referenced_widgets": [
            "0a08ef9c59264c5e86ea58a69bc4ee1b",
            "09c350df176048a0b273382ab24eff35",
            "84b339b85a87406aa35f0b2fa9ed7d80",
            "412f4078e4fc41aca5f64d49616bfe62",
            "86523f71f7ac4d74a6d06a7d0b46f60b",
            "f57180f4bd2d49a08c53b28396505d4f",
            "ca32fa4e462e4909afb0f56e26a404c7",
            "e2636a1cfe774765b9a34f4509a450c0",
            "1c090a74df2e45fab1fdc49ce94a524d",
            "8cc829c5d5aa4b94a092da66e42465dd",
            "ed27964de9794d95a047cec91435124b"
          ]
        },
        "outputId": "99a2af35-e5b1-4f98-d20d-a504e5cfd629"
      },
      "source": [
        "import numpy as np\n",
        "import torchvision.transforms as transforms\n",
        "\n",
        "transform = transforms.Compose(\n",
        "    [transforms.ToTensor(),\n",
        "     transforms.Normalize((0.5,0.5,0.5), (0.5,0.5,0.5))]\n",
        ")\n",
        "\n",
        "train_dataset = torchvision.datasets.CIFAR10(\n",
        "    root='./data',\n",
        "    train=True,\n",
        "    download=True,\n",
        "    transform=transform\n",
        ")\n",
        "\n",
        "test_dataset = torchvision.datasets.CIFAR10(\n",
        "    root='./data',\n",
        "    train=False,\n",
        "    download=True,\n",
        "    transform=transform\n",
        ")\n",
        "\n",
        "batch_size_train, batch_size_test = 64, 1000\n",
        "\n",
        "train_loader = torch.utils.data.DataLoader(\n",
        "    train_dataset,\n",
        "    batch_size=batch_size_train,\n",
        "    shuffle=True,\n",
        ")\n",
        "\n",
        "test_loader = torch.utils.data.DataLoader(\n",
        "    test_dataset,\n",
        "    batch_size=batch_size_test,\n",
        "    shuffle=False,\n",
        ")\n",
        "\n",
        "# (Batchsize x Channel x Height x Width)\n",
        "batch_idx, (images, targets) = next(enumerate(train_loader))\n",
        "\n",
        "# Label Name\n",
        "classes = ('plane', 'car', 'bird', 'cat', 'deer', 'dog', 'frog', 'horse', 'ship', 'truck')\n",
        "\n",
        "def CIFAR_plot_visualize():\n",
        "  fig, ax = plt.subplots(3,3)\n",
        "  fig.set_size_inches(12,12)\n",
        "\n",
        "  for i in range(3):\n",
        "    for j in range(3):\n",
        "      npImage = np.transpose((torchvision.utils.make_grid(images[i*3+j]/2+0.5)).numpy(), (1,2,0))\n",
        "      ax[i,j].imshow(npImage)\n",
        "      ax[i,j].set_title(f'label {classes[targets[i*3+j]]}')\n",
        "  fig.show()\n",
        "\n",
        "CIFAR_plot_visualize()"
      ],
      "execution_count": 5,
      "outputs": [
        {
          "output_type": "stream",
          "name": "stdout",
          "text": [
            "Downloading https://www.cs.toronto.edu/~kriz/cifar-10-python.tar.gz to ./data/cifar-10-python.tar.gz\n"
          ]
        },
        {
          "output_type": "display_data",
          "data": {
            "text/plain": [
              "  0%|          | 0/170498071 [00:00<?, ?it/s]"
            ],
            "application/vnd.jupyter.widget-view+json": {
              "version_major": 2,
              "version_minor": 0,
              "model_id": "0a08ef9c59264c5e86ea58a69bc4ee1b"
            }
          },
          "metadata": {}
        },
        {
          "output_type": "stream",
          "name": "stdout",
          "text": [
            "Extracting ./data/cifar-10-python.tar.gz to ./data\n",
            "Files already downloaded and verified\n"
          ]
        },
        {
          "output_type": "display_data",
          "data": {
            "text/plain": [
              "<Figure size 864x864 with 9 Axes>"
            ],
            "image/png": "[encoded data removed]"
          },
          "metadata": {
            "needs_background": "light"
          }
        }
      ]
    },
    {
      "cell_type": "markdown",
      "metadata": {
        "id": "f0FMDyDzijEG"
      },
      "source": [
        "### Task 2: Create CNN and train it\n",
        "Set up a convolutional neural network and have your data trained on it. You have to decide all the details in your network, overall your neural network should meet the following standards:\n",
        "\n",
        "\n",
        "*   You should not use more than three convolutional layers and three fully connected layers\n",
        "*   Accuracy on the test dataset should be **above** 50%\n",
        "\n"
      ]
    },
    {
      "cell_type": "code",
      "metadata": {
        "id": "cRuEf8tAlnsP",
        "colab": {
          "base_uri": "https://localhost:8080/"
        },
        "outputId": "6e023d1e-433a-4006-eea5-1e6e9cff1f38"
      },
      "source": [
        "# You should have your test accuracy printed in the output box\n",
        "\n",
        "incorrected_img = []\n",
        "\n",
        "def CIFAR_test(classifier, epoch):\n",
        "\n",
        "  classifier.eval() # we need to set the mode for our model\n",
        "\n",
        "  test_loss = 0\n",
        "  correct = 0\n",
        "\n",
        "  with torch.no_grad():\n",
        "    for i, (images, targets) in enumerate(test_loader):\n",
        "      output = classifier(images)\n",
        "      test_loss += F.nll_loss(output, targets, reduction='sum').item()\n",
        "      pred = output.data.max(1, keepdim=True)[1] # we get the estimate of our result by look at the largest class value\n",
        "      if pred[i] != targets[i] and len(incorrected_img) < 4:\n",
        "        incorrected_img.append({\"image\": images[i], \"predicted\": classes[pred[i]], \"label\": classes[targets[i]]})\n",
        "      correct += pred.eq(targets.data.view_as(pred)).sum() # sum up the corrected samples\n",
        "  \n",
        "  test_loss /= len(test_loader.dataset)\n",
        "  test_losses.append(test_loss)\n",
        "  test_counter.append(len(train_loader.dataset)*epoch)\n",
        "\n",
        "  print(f'Test result on epoch {epoch}: Avg loss is {test_loss}, Accuracy: {100.*correct/len(test_loader.dataset)}%')\n",
        "\n",
        "class CifarCNN(nn.Module):\n",
        "  \n",
        "  def __init__(self):\n",
        "    super(CifarCNN, self).__init__()\n",
        "\n",
        "    self.conv1 = nn.Conv2d(3, 6, 5)\n",
        "    self.conv2 = nn.Conv2d(6, 16, 5)\n",
        "    self.pool = nn.MaxPool2d(2, 2)\n",
        "    self.fc1 = nn.Linear(16*5*5, 120)\n",
        "    self.fc2 = nn.Linear(120, 10)\n",
        "  \n",
        "  def forward(self, x):\n",
        "    x = self.pool(F.relu(self.conv1(x)))\n",
        "    x = self.pool(F.relu(self.conv2(x)))\n",
        "    x = x.view(-1, 16*5*5)\n",
        "    x = F.relu(self.fc1(x))\n",
        "    x = self.fc2(x)\n",
        "    return F.log_softmax(x, 1)\n",
        "\n",
        "# Test Accuracy for Convolutional Neural Network on CIFAR-10\n",
        "classifier = CifarCNN()\n",
        "cifarcnn_classifier = classifier\n",
        "optimizer = optim.SGD(classifier.parameters(), lr=0.01, momentum=0.8)\n",
        "\n",
        "train_losses = []\n",
        "train_counter = []\n",
        "test_losses = []\n",
        "test_counter = []\n",
        "max_epoch = 3\n",
        "\n",
        "print(\"Test for Convolutional Neural Network on CIFAR-10:\\n\")\n",
        "for epoch in range(1, max_epoch+1):\n",
        "  train(classifier, epoch)\n",
        "  CIFAR_test(classifier, epoch)\n"
      ],
      "execution_count": 6,
      "outputs": [
        {
          "output_type": "stream",
          "name": "stdout",
          "text": [
            "Test for Convolutional Neural Network on CIFAR-10:\n",
            "\n",
            "Epoch 1: [0/50000] Loss: 2.308941602706909\n",
            "Epoch 1: [6400/50000] Loss: 2.1428382396698\n",
            "Epoch 1: [12800/50000] Loss: 1.8478877544403076\n",
            "Epoch 1: [19200/50000] Loss: 1.7834783792495728\n",
            "Epoch 1: [25600/50000] Loss: 1.5847634077072144\n",
            "Epoch 1: [32000/50000] Loss: 1.6177501678466797\n",
            "Epoch 1: [38400/50000] Loss: 1.7041960954666138\n",
            "Epoch 1: [44800/50000] Loss: 1.499781847000122\n",
            "Test result on epoch 1: Avg loss is 1.5236200561523439, Accuracy: 44.70000076293945%\n",
            "Epoch 2: [0/50000] Loss: 1.7022777795791626\n",
            "Epoch 2: [6400/50000] Loss: 1.4006712436676025\n",
            "Epoch 2: [12800/50000] Loss: 1.4020601511001587\n",
            "Epoch 2: [19200/50000] Loss: 1.5540591478347778\n",
            "Epoch 2: [25600/50000] Loss: 1.4420422315597534\n",
            "Epoch 2: [32000/50000] Loss: 1.6624797582626343\n",
            "Epoch 2: [38400/50000] Loss: 1.2684218883514404\n",
            "Epoch 2: [44800/50000] Loss: 1.4628446102142334\n",
            "Test result on epoch 2: Avg loss is 1.330558251953125, Accuracy: 52.20000076293945%\n",
            "Epoch 3: [0/50000] Loss: 1.1116070747375488\n",
            "Epoch 3: [6400/50000] Loss: 1.402266025543213\n",
            "Epoch 3: [12800/50000] Loss: 1.1736886501312256\n",
            "Epoch 3: [19200/50000] Loss: 1.1018365621566772\n",
            "Epoch 3: [25600/50000] Loss: 1.2607063055038452\n",
            "Epoch 3: [32000/50000] Loss: 1.1652690172195435\n",
            "Epoch 3: [38400/50000] Loss: 0.9384500980377197\n",
            "Epoch 3: [44800/50000] Loss: 1.3902314901351929\n",
            "Test result on epoch 3: Avg loss is 1.2470194458007813, Accuracy: 55.70000076293945%\n"
          ]
        }
      ]
    },
    {
      "cell_type": "markdown",
      "metadata": {
        "id": "hS1mXr9Cl6pM"
      },
      "source": [
        "### Task 3: Plot misclassified test images\n",
        "Plot some misclassified images in your test dataset:\n",
        "\n",
        "*   select three images that are **misclassified** by your neural network\n",
        "*   label each images with true label and predicted label\n",
        "\n"
      ]
    },
    {
      "cell_type": "code",
      "metadata": {
        "id": "xd8vWof8nIHw",
        "colab": {
          "base_uri": "https://localhost:8080/",
          "height": 716
        },
        "outputId": "890a6c45-eaa5-40d0-9013-ce3bf4aa72b0"
      },
      "source": [
        "def CIFAR_Incorrected_plot_visualize():\n",
        "  fig, ax = plt.subplots(3)\n",
        "  fig.set_size_inches(12,12)\n",
        "\n",
        "  for i in range(3):\n",
        "    npImage = np.transpose((torchvision.utils.make_grid(incorrected_img[i]['image']/2+0.5).numpy()), (1,2,0))\n",
        "    ax[i].imshow(npImage)\n",
        "    ax[i].set_title(f'Pred: ' + incorrected_img[i]['predicted'] + ' / True: ' + incorrected_img[i]['label'])\n",
        "  fig.show()\n",
        "\n",
        "CIFAR_Incorrected_plot_visualize()"
      ],
      "execution_count": 7,
      "outputs": [
        {
          "output_type": "display_data",
          "data": {
            "text/plain": [
              "<Figure size 864x864 with 3 Axes>"
            ],
            "image/png": "[encoded data removed]"
          },
          "metadata": {
            "needs_background": "light"
          }
        }
      ]
    },
    {
      "cell_type": "markdown",
      "metadata": {
        "id": "y3PNvPuih8zt"
      },
      "source": [
        "Questions (0 points): Are the mis-classified images also misleading to human eyes?\n",
        "\n",
        "Given quality of picture it could be misleading, but not totally."
      ]
    },
    {
      "cell_type": "markdown",
      "metadata": {
        "id": "INN54zXpTcZw"
      },
      "source": [
        "## Exercise 3: Transfer Learning (30 points)"
      ]
    },
    {
      "cell_type": "markdown",
      "metadata": {
        "id": "IgDHswfp0k7m"
      },
      "source": [
        "In practice, people won't train an entire CNN from scratch, because it is relatively rare to have a dataset of sufficient size (or sufficient computational power). Instead, it is common to pretrain a CNN on a very large dataset and then use the CNN either as an initialization or a fixed feature extractor for the task of interest.\n",
        "\n",
        "In this task, you will learn how to use a pretrained CNN for CIFAR-10 classification."
      ]
    },
    {
      "cell_type": "markdown",
      "metadata": {
        "id": "f21CjwoW8ty5"
      },
      "source": [
        "### Task1: Load pretrained model"
      ]
    },
    {
      "cell_type": "markdown",
      "metadata": {
        "id": "VZ-21Pv183TX"
      },
      "source": [
        "`torchvision.models` (https://pytorch.org/vision/stable/models.html) contains definitions of models for addressing different tasks, including: image classification, pixelwise semantic segmentation, object detection, instance segmentation, person keypoint detection and video classification.\n",
        "\n",
        "First, you should load the **pretrained** ResNet-18 that has already been trained on [ImageNet](https://www.image-net.org/) using `torchvision.models`. If you are interested in more details about Resnet-18, read this paper https://arxiv.org/pdf/1512.03385.pdf."
      ]
    },
    {
      "cell_type": "code",
      "metadata": {
        "id": "KaHP0VfAVuDY"
      },
      "source": [
        "resnet18 = torchvision.models.resnet18(pretrained=True)\n",
        "resnet18_classifier = resnet18.to(device)"
      ],
      "execution_count": 17,
      "outputs": []
    },
    {
      "cell_type": "markdown",
      "metadata": {
        "id": "MtQkZUZH84q8"
      },
      "source": [
        "### Task2: Create data loaders for CIFAR-10"
      ]
    },
    {
      "cell_type": "markdown",
      "metadata": {
        "id": "GTlRo-CJ4GQD"
      },
      "source": [
        "Then you need to create a dataloader of CIFAR-10. Note that the model you load has been trained on **ImageNet** and it expects inputs as mini-batches of 3-channel RGB images of shape (3 x H x W), where H and W are expected to be **at least** 224. So you need to preprocess the CIFAR-10 data to make sure it has a height and width. See [`torchvision.transforms.Resize`](https://pytorch.org/vision/stable/transforms.html#torchvision.transforms.Resize).\n",
        "You will probably want to add this transform appropriately to the `transform` you created in a previous task.\n"
      ]
    },
    {
      "cell_type": "code",
      "metadata": {
        "id": "lhFys7OQV1Wj",
        "colab": {
          "base_uri": "https://localhost:8080/"
        },
        "outputId": "ddb09793-9012-45d5-de57-90e6687bf69a"
      },
      "source": [
        "transform = transforms.Compose(\n",
        "    [transforms.Resize(224),\n",
        "     transforms.ToTensor(),\n",
        "     transforms.Normalize((0.5,0.5,0.5), (0.5,0.5,0.5))]\n",
        ")\n",
        "\n",
        "train_dataset = torchvision.datasets.CIFAR10(\n",
        "    root='./data',\n",
        "    train=True,\n",
        "    download=True,\n",
        "    transform=transform\n",
        ")\n",
        "\n",
        "test_dataset = torchvision.datasets.CIFAR10(\n",
        "    root='./data',\n",
        "    train=False,\n",
        "    download=True,\n",
        "    transform=transform\n",
        ")\n",
        "\n",
        "batch_size_train, batch_size_test = 64, 1000\n",
        "\n",
        "train_loader = torch.utils.data.DataLoader(\n",
        "    train_dataset,\n",
        "    batch_size=batch_size_train,\n",
        "    shuffle=True\n",
        ")\n",
        "\n",
        "test_loader = torch.utils.data.DataLoader(\n",
        "    test_dataset,\n",
        "    batch_size=batch_size_test,\n",
        "    shuffle=False\n",
        ")\n"
      ],
      "execution_count": 18,
      "outputs": [
        {
          "output_type": "stream",
          "name": "stdout",
          "text": [
            "Files already downloaded and verified\n",
            "Files already downloaded and verified\n"
          ]
        }
      ]
    },
    {
      "cell_type": "markdown",
      "metadata": {
        "id": "k8nR_aBi9Atb"
      },
      "source": [
        "### Task3: Classify test data on pretrained model"
      ]
    },
    {
      "cell_type": "markdown",
      "metadata": {
        "id": "N8IXXu-J9grR"
      },
      "source": [
        "Use the model you load to classify the **test** CIFAR-10 data and print out the test accuracy.\n",
        "\n",
        "Don't be surprised if the accuracy is bad!"
      ]
    },
    {
      "cell_type": "code",
      "metadata": {
        "id": "JOuCodyJ4FYp"
      },
      "source": [
        "resnet18_optimizer = optim.SGD(resnet18_classifier.parameters(), lr=0.01, momentum=0.8)\n",
        "\n",
        "def train(classifier, epoch):\n",
        "\n",
        "  classifier.train() # we need to set the mode for our model\n",
        "\n",
        "  for batch_idx, (images, targets) in enumerate(train_loader):\n",
        "\n",
        "    images = images.to(device)\n",
        "    targets = targets.to(device)\n",
        "    resnet18_optimizer.zero_grad()\n",
        "    output = classifier(images)\n",
        "    loss = loss_fn(output, targets)\n",
        "    loss.backward()\n",
        "    resnet18_optimizer.step()\n",
        "\n",
        "    if batch_idx % 10 == 0: # We record our output every 10 batches\n",
        "      train_losses.append(loss.item()) # item() is to get the value of the tensor directly\n",
        "      train_counter.append(\n",
        "        (batch_idx*64) + ((epoch-1)*len(train_loader.dataset)))\n",
        "    if batch_idx % 100 == 0: # We visulize our output every 10 batches\n",
        "      print(f'Epoch {epoch}: [{batch_idx*len(images)}/{len(train_loader.dataset)}] Loss: {loss.item()}')\n",
        "\n",
        "def test(classifier, epoch):\n",
        "\n",
        "  classifier.eval() # we need to set the mode for our model\n",
        "\n",
        "  test_loss = 0\n",
        "  correct = 0\n",
        "\n",
        "  with torch.no_grad():\n",
        "    for images, targets in test_loader:\n",
        "      images = images.to(device)\n",
        "      targets = targets.to(device)\n",
        "      output = classifier(images)\n",
        "      test_loss += F.nll_loss(output, targets, reduction='sum').item()\n",
        "      pred = output.data.max(1, keepdim=True)[1] # we get the estimate of our result by look at the largest class value\n",
        "      correct += pred.eq(targets.data.view_as(pred)).sum() # sum up the corrected samples\n",
        "  \n",
        "  test_loss /= len(test_loader.dataset)\n",
        "  test_losses.append(test_loss)\n",
        "  test_counter.append(len(train_loader.dataset)*epoch)\n",
        "\n",
        "  print(f'Test result on epoch {epoch}: Avg loss is {test_loss}, Accuracy: {100.*correct/len(test_loader.dataset)}%')\n"
      ],
      "execution_count": 34,
      "outputs": []
    },
    {
      "cell_type": "code",
      "source": [
        "# Test Accuracy for ResNet18 on CIFAR-10\n",
        "\n",
        "test_losses = []\n",
        "test_counter = []\n",
        "max_epoch = 2\n",
        "\n",
        "print(\"Test for ResNet18 on CIFAR-10:\\n\")\n",
        "for epoch in range(1, max_epoch+1):\n",
        "  test(resnet18_classifier, epoch)"
      ],
      "metadata": {
        "colab": {
          "base_uri": "https://localhost:8080/"
        },
        "id": "PJwDqS6OxEgg",
        "outputId": "99833dcb-26ab-4417-efed-75a7b117e4c5"
      },
      "execution_count": 20,
      "outputs": [
        {
          "output_type": "stream",
          "name": "stdout",
          "text": [
            "Test for ResNet18 on CIFAR-10:\n",
            "\n",
            "Test result on epoch 1: Avg loss is 0.7733426818847656, Accuracy: 0.029999999329447746%\n",
            "Test result on epoch 2: Avg loss is 0.7733426818847656, Accuracy: 0.029999999329447746%\n"
          ]
        }
      ]
    },
    {
      "cell_type": "markdown",
      "metadata": {
        "id": "ETLezHR0-ByE"
      },
      "source": [
        "### Task 4: Update model for CIFAR-10"
      ]
    },
    {
      "cell_type": "markdown",
      "metadata": {
        "id": "BbQrsL-U-Faq"
      },
      "source": [
        "Now try to improve the test accuracy. We offer several possible solutions:\n",
        "\n",
        "(1) You can try to directly continue to train the model you load with the CIFAR-10 training data. \n",
        "\n",
        "(2) For efficiency, you can try to freeze part of the parameters of the loaded models. For example, you can first freeze all parameters by\n",
        "\n",
        "```\n",
        "for param in model.parameters():\n",
        "    param.requires_grad = False\n",
        "```\n",
        "and then unfreeze the last few layers by setting `somelayer.requires_grad=True`.\n",
        "\n",
        "You are also welcome to try any other approach you can think of.\n",
        "\n",
        "\n",
        "**Note:** You should print out the test accuracy and to get full credits, the test accuracy should be at least **80%**."
      ]
    },
    {
      "cell_type": "code",
      "metadata": {
        "id": "D2H2oDDyWv8t",
        "colab": {
          "base_uri": "https://localhost:8080/"
        },
        "outputId": "85c68292-0650-4d1f-f09e-a013969fb18c"
      },
      "source": [
        "loss_fn = nn.CrossEntropyLoss()\n",
        "for param in resnet18_classifier.parameters():\n",
        "    param.requires_grad = True\n",
        "\n",
        "train_losses = []\n",
        "train_counter = []\n",
        "test_losses = []\n",
        "test_counter = []\n",
        "max_epoch = 1\n",
        "\n",
        "print(\"Train and test for ResNet18 on CIFAR-10:\\n\")\n",
        "for epoch in range(1, max_epoch+1):\n",
        "  train(resnet18_classifier, epoch)\n",
        "  test(resnet18_classifier, epoch)"
      ],
      "execution_count": 38,
      "outputs": [
        {
          "output_type": "stream",
          "name": "stdout",
          "text": [
            "Train and test for ResNet18 on CIFAR-10:\n",
            "\n",
            "Epoch 1: [0/50000] Loss: 0.22005407512187958\n",
            "Epoch 1: [6400/50000] Loss: 0.28739964962005615\n",
            "Epoch 1: [12800/50000] Loss: 0.2041682004928589\n",
            "Epoch 1: [19200/50000] Loss: 0.2604939043521881\n",
            "Epoch 1: [25600/50000] Loss: 0.18055635690689087\n",
            "Epoch 1: [32000/50000] Loss: 0.2347770482301712\n",
            "Epoch 1: [38400/50000] Loss: 0.16100767254829407\n",
            "Epoch 1: [44800/50000] Loss: 0.14175215363502502\n",
            "Test result on epoch 1: Avg loss is -22.4392359375, Accuracy: 91.75%\n"
          ]
        }
      ]
    }
  ]
}