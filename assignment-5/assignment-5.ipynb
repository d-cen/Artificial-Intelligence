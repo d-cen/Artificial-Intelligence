{
  "nbformat": 4,
  "nbformat_minor": 0,
  "metadata": {
    "accelerator": "GPU",
    "colab": {
      "name": "Assignment_05_Exercise.ipynb",
      "provenance": [],
      "collapsed_sections": []
    },
    "kernelspec": {
      "display_name": "Python 3",
      "language": "python",
      "name": "python3"
    },
    "language_info": {
      "codemirror_mode": {
        "name": "ipython",
        "version": 3
      },
      "file_extension": ".py",
      "mimetype": "text/x-python",
      "name": "python",
      "nbconvert_exporter": "python",
      "pygments_lexer": "ipython3",
      "version": "3.8.8"
    }
  },
  "cells": [
    {
      "cell_type": "markdown",
      "metadata": {
        "id": "zmwWs4S9cRIn"
      },
      "source": [
        "# ECE 57000 Assignment 5 Exercise\n",
        "\n",
        "Your Name: Ti-Wei Chen"
      ]
    },
    {
      "cell_type": "markdown",
      "metadata": {
        "id": "WfirXJR3qvB0"
      },
      "source": [
        "For this assignment, you will implement and explore various density estimation methods."
      ]
    },
    {
      "cell_type": "markdown",
      "metadata": {
        "id": "Vmlsa88cqmib"
      },
      "source": [
        "## Exercise 1: Density estimation in 1D\n",
        "In this exercise, you will write code to estimate 1D densities.\n",
        "Specifically, you will write code to estimate a Gaussian density, a histogram density, and a kernel density."
      ]
    },
    {
      "cell_type": "markdown",
      "metadata": {
        "id": "Z1Ugqodp_96y"
      },
      "source": [
        "### Task 1.1: Gaussian density\n",
        "For this first one you will estimate a Gaussian density via MLE.\n",
        "As discussed in class, this simplifies to estimating the mean and standard devaition of the data and using these empirical estimates for the Gaussian distribution.\n",
        "The Gaussian PDF can be evaluated using the function [`scipy.stats.norm.pdf`](https://docs.scipy.org/doc/scipy/reference/generated/scipy.stats.norm.html)."
      ]
    },
    {
      "cell_type": "code",
      "metadata": {
        "id": "DTqofzN8_96y"
      },
      "source": [
        "import numpy as np\n",
        "import scipy.stats\n",
        "from sklearn.base import BaseEstimator\n",
        "class GaussianDensity(BaseEstimator):\n",
        "    def fit(self, X, y=None):\n",
        "        # You should estimate the mean and variance of the data  and save as self.mean_ and self.std_\n",
        "        # (note that X will be shape (n,1) because there is only 1 feature).\n",
        "        \n",
        "        self.mean_ = sum(X) / len(X)\n",
        "        self.std_ = (sum((x - self.mean_) ** 2 for x in X) / len(X)) ** (1/2)\n",
        "\n",
        "        return self\n",
        "    \n",
        "    def predict_proba(self, X):\n",
        "        # This should return the PDF values for each sample in X (again of shape (n, 1))\n",
        "        # This should use your self.mean_ and self.std_ variables saved from the fit method\n",
        "        \n",
        "        pdf_values = scipy.stats.norm.pdf(X, loc=self.mean_, scale=self.std_)\n",
        "        pdf_values = np.ravel(pdf_values[:,0])\n",
        "        return pdf_values  # Output should be of shape (n,), i.e., a 1D array"
      ],
      "execution_count": 1,
      "outputs": []
    },
    {
      "cell_type": "markdown",
      "metadata": {
        "id": "nk77_4zh_96z"
      },
      "source": [
        "### Task 1.2: Histogram density\n",
        "Now you will implement a histogram density estimate given min, max and number of bins.\n",
        "The function [`np.searchsorted`](https://numpy.org/doc/stable/reference/generated/numpy.searchsorted.html) may be useful but is not required.\n",
        "\n",
        "NOTE: The value of the histogram outside of the min max values should be set to 0."
      ]
    },
    {
      "cell_type": "code",
      "metadata": {
        "id": "iQFAbLuI_96z"
      },
      "source": [
        "import numpy as np\n",
        "import scipy.stats\n",
        "from sklearn.base import BaseEstimator\n",
        "class HistogramDensity(BaseEstimator):\n",
        "    def __init__(self, n_bins, min_val, max_val):\n",
        "        self.n_bins = n_bins\n",
        "        self.min_val = min_val\n",
        "        self.max_val = max_val\n",
        "    \n",
        "    def fit(self, X, y=None):\n",
        "        # First create equally spaced bin_edges based on min_val, max_val and n_bins\n",
        "        #  and save as self.bin_edges_\n",
        "        #  (note the shape of self.bin_edges_ should be (n_bins+1,) )\n",
        "        # Second, estimate the frequency for each bin based on the input data X\n",
        "        #  (i.e., the number of training samples that fall into that bin divided \n",
        "        #  by the total number of samples)\n",
        "        # Third, using the probability for each bin, compute the density value (i.e., PDF) for\n",
        "        #  each bin. (Note you will have to account for the width of the bin to ensure\n",
        "        #  that integrating your density function from min_value to max_value will be 1).\n",
        "        #  Save the density per bin as self.pdf_per_bin_ which should have the shape (n_bins,)\n",
        "        \n",
        "        # numpy method\n",
        "        _, bin_edges = np.histogram(X, bins=self.n_bins, range=(self.min_val, self.max_val))\n",
        "        self.pdf_per_bin_, self.bin_edges_ = np.histogram(X, bins=bin_edges, range=(self.min_val, self.max_val), density=True)\n",
        "        \n",
        "        # step-by-step method\n",
        "        freq_array = [0] * (len(self.bin_edges_)-1)\n",
        "        for x in X:\n",
        "          bin_num = np.digitize(x, self.bin_edges_)\n",
        "          freq_array[bin_num[0]-1] += 1\n",
        "\n",
        "        return self\n",
        "    \n",
        "    def predict_proba(self, X):\n",
        "        # You should return the PDF value of the samples X.  This requires finding out which\n",
        "        #  bin each sample falls into and returning it's corresponding density value\n",
        "        #  **Importantly, if the value is less than min_value or greater than max_value, \n",
        "        #    then a pdf value of 0 should be returned.\n",
        "        \n",
        "        pdf_values = []\n",
        "        for x in X:\n",
        "          if (x < self.min_val or x >= self.max_val):\n",
        "            pdf = 0\n",
        "          elif x in self.bin_edges_:\n",
        "            i = list(self.bin_edges_).index(x)\n",
        "            pdf = self.pdf_per_bin_[i]\n",
        "          else:\n",
        "            i = np.searchsorted(self.bin_edges_, x)\n",
        "            pdf = self.pdf_per_bin_[i-1]\n",
        "          pdf_values.append(pdf)\n",
        "        \n",
        "        pdf_values = np.reshape(pdf_values, (len(pdf_values),))\n",
        "\n",
        "        return np.array(pdf_values)  # Output should be of shape (n,), i.e., a 1D array\n"
      ],
      "execution_count": 29,
      "outputs": []
    },
    {
      "cell_type": "markdown",
      "metadata": {
        "id": "E8Gxypu__960"
      },
      "source": [
        "### Task 1.3: Kernel density\n",
        "Now you will implement a kernel density estimate (KDE) via a Gaussian kernel given the bandwidth parameter (i.e., the standard deviation of the Gaussian kernel.\n",
        "Specifically, the Gaussian kernel density is given by:\n",
        "$$p(x; \\mathcal{D}) = \\frac{1}{n}\\sum_{i=1}^n p_{\\mathcal{N}}(x; \\mu = x_i, \\sigma=h) $$\n",
        "where $\\mathcal{D}=\\{x_i\\}_{i=1}^n$ is a training dataset of $n$ samples, $p_{\\mathcal{N}}$ is the Gaussian/normal density function and $h$ is called the bandwidth hyperparameter of the KDE model.\n",
        "(Note that fitting merely requires saving the training dataset and using it to compute densities of new samples.)"
      ]
    },
    {
      "cell_type": "code",
      "metadata": {
        "id": "RcnVWaYS_960"
      },
      "source": [
        "import numpy as np\n",
        "import scipy.stats\n",
        "from sklearn import neighbors\n",
        "from sklearn.base import BaseEstimator\n",
        "class KernelDensity(BaseEstimator):\n",
        "    def __init__(self, bandwidth):\n",
        "        self.bandwidth = bandwidth\n",
        "    \n",
        "    def fit(self, X, y=None):\n",
        "        # Save the training data in self.X_train_\n",
        "\n",
        "        self.X_train_ = X\n",
        "        return self\n",
        "    \n",
        "    def predict_proba(self, X):\n",
        "        # You should return the KDE PDF value of the samples X.\n",
        "        #  Note that the sum above is over the TRAINING samples, not the test samples\n",
        "        #  so you should use the samples saved in the fit method.\n",
        "\n",
        "        pdf_values = 0\n",
        "        for x in self.X_train_:\n",
        "          pdf_values += scipy.stats.norm.pdf(X, loc=x, scale=self.bandwidth)\n",
        "        pdf_values = pdf_values/len(self.X_train_)\n",
        "        pdf_values = np.ravel(pdf_values[:,0])\n",
        "        return pdf_values  # Output should be of shape (n,), i.e., a 1D array\n"
      ],
      "execution_count": 3,
      "outputs": []
    },
    {
      "cell_type": "markdown",
      "metadata": {
        "id": "qFXBuNH__961"
      },
      "source": [
        "### Test code\n",
        "The following code will test each of your density estimators.\n",
        "Run this to test your code and this is what will be used for grading your code."
      ]
    },
    {
      "cell_type": "code",
      "metadata": {
        "scrolled": false,
        "colab": {
          "base_uri": "https://localhost:8080/",
          "height": 615
        },
        "id": "A6E2_XIQ_961",
        "outputId": "1aa050ff-56ec-48bd-f873-e042234b6e67"
      },
      "source": [
        "import scipy.stats\n",
        "import matplotlib.pyplot as plt\n",
        "from sklearn.model_selection import train_test_split\n",
        "# Generate some data and split into train and test\n",
        "min_val, max_val = -5, 5\n",
        "diff = max_val - min_val\n",
        "X = diff * np.vstack([scipy.stats.beta(6,1).rvs(size=(300,1)), scipy.stats.beta(2,7).rvs(size=(100,1))]) - diff/2\n",
        "X_train, X_test = train_test_split(X, test_size=0.5, random_state=15)\n",
        "print(X_train.shape, X_test.shape)\n",
        "\n",
        "# Loop through models\n",
        "models = [GaussianDensity(), \n",
        "          HistogramDensity(n_bins=15, min_val=min_val, max_val=max_val),\n",
        "          KernelDensity(bandwidth=1)\n",
        "         ]\n",
        "for model in models:\n",
        "    print(f'Fitting {type(model).__name__} model')\n",
        "    # Fit models\n",
        "    model.fit(X_train)\n",
        "\n",
        "    # Sanity checks \n",
        "    xq = np.linspace(min_val-diff, max_val+diff, num=1000)\n",
        "    pdf_vals = model.predict_proba(xq.reshape(-1, 1))\n",
        "    # Check that right size and >= 0\n",
        "    print(f'{len(pdf_vals.shape) == 1 and pdf_vals.shape[0] == len(xq)}, Shape={pdf_vals.shape}'\n",
        "          f' - Is the output the correct shape?') \n",
        "    print(f'{np.all(pdf_vals>=0)}, Num neg={np.sum(pdf_vals < 0)} - Are all pdf values >= 0? ')\n",
        "    \n",
        "    # Check that integrates to 1 vai approximate numerical integration\n",
        "    model_pdf = lambda x: model.predict_proba(np.array(x).reshape(1,1))[0]\n",
        "    quad_out = scipy.integrate.quad(model_pdf, min_val - diff, max_val + diff, limit=100, full_output=True)\n",
        "    print(f'{np.abs(quad_out[0] - 1) < 1e-4}, quad_out={quad_out[0]} - Does the PDF integrate to 1? ')\n",
        "    print('')\n",
        "\n",
        "    # Plot density model\n",
        "    plt.plot(xq, pdf_vals, label=type(model).__name__)\n",
        "    \n",
        "plt.legend()"
      ],
      "execution_count": 30,
      "outputs": [
        {
          "output_type": "stream",
          "name": "stdout",
          "text": [
            "(200, 1) (200, 1)\n",
            "Fitting GaussianDensity model\n",
            "True, Shape=(1000,) - Is the output the correct shape?\n",
            "True, Num neg=0 - Are all pdf values >= 0? \n",
            "True, quad_out=0.9999898345591247 - Does the PDF integrate to 1? \n",
            "\n",
            "Fitting HistogramDensity model\n",
            "True, Shape=(1000,) - Is the output the correct shape?\n",
            "True, Num neg=0 - Are all pdf values >= 0? \n",
            "True, quad_out=1.0000614956369935 - Does the PDF integrate to 1? \n",
            "\n",
            "Fitting KernelDensity model\n",
            "True, Shape=(1000,) - Is the output the correct shape?\n",
            "True, Num neg=0 - Are all pdf values >= 0? \n"
          ]
        },
        {
          "output_type": "stream",
          "name": "stderr",
          "text": [
            "/usr/local/lib/python3.7/dist-packages/numpy/core/fromnumeric.py:43: VisibleDeprecationWarning: Creating an ndarray from ragged nested sequences (which is a list-or-tuple of lists-or-tuples-or ndarrays with different lengths or shapes) is deprecated. If you meant to do this, you must specify 'dtype=object' when creating the ndarray.\n",
            "  result = getattr(asarray(obj), method)(*args, **kwds)\n"
          ]
        },
        {
          "output_type": "stream",
          "name": "stdout",
          "text": [
            "True, quad_out=1.0000000000000002 - Does the PDF integrate to 1? \n",
            "\n"
          ]
        },
        {
          "output_type": "execute_result",
          "data": {
            "text/plain": [
              "<matplotlib.legend.Legend at 0x7efda4a7e4d0>"
            ]
          },
          "metadata": {},
          "execution_count": 30
        },
        {
          "output_type": "display_data",
          "data": {
            "text/plain": [
              "<Figure size 432x288 with 1 Axes>"
            ],
            "image/png": "[encoded data removed]"
          },
          "metadata": {
            "needs_background": "light"
          }
        }
      ]
    },
    {
      "cell_type": "markdown",
      "metadata": {
        "id": "rhb0cwZ9_961"
      },
      "source": [
        "## Exercise 2: Determine optimal hyperparameters based on 10-fold cross validation\n",
        "In this exercise, you need to write code that will use your estimators from above to automatically choose the best hyperparameters for the histogram and kernel density estimator.  In particular, find the best `n_bins` and `bandwidth` for the histogram and KDE respectively.\n",
        "\n",
        "### Task 1: Implement custom scorer function for use in GridSearchCV\n",
        "To do this, you will need to implement a `scorer` function that will compute the log likelihood of the data given (higher is better).\n",
        "This function takes in the model, the input data X and y_true (which defaults to None since this is an unsupervised problem)."
      ]
    },
    {
      "cell_type": "code",
      "metadata": {
        "id": "qk14uYF-_962"
      },
      "source": [
        "def mean_log_likelihood_scorer(model, X, y_true=None):\n",
        "    # Compute and return the mean log probability of the data\n",
        "    #  (Note y_true is not used)\n",
        "    y = np.log(model.predict_proba(X))\n",
        "    mean_ll = np.mean(y)\n",
        "    return mean_ll"
      ],
      "execution_count": 8,
      "outputs": []
    },
    {
      "cell_type": "markdown",
      "metadata": {
        "id": "WXH777ac_962"
      },
      "source": [
        "### Task 2: Estimate best hyperparameters\n",
        "Then you can use sklearn's cross validation utilities to cross validate using the training data to determine the best parameters by passing this function as the `scoring` argument of GridSearchCV (note you just pass it directly as `mean_log_likelihood_scorer` without the parenthesis; this is known as passing a function to another function).\n",
        "\n",
        "You should try 2-20 number of bins and a 50 bandwidth parameters linearly spaced between 0.1 and 10.\n",
        "\n",
        "Finally, print out the optimal hyperparameters and, using the optimal hyperparameters, print out the log likelihood of the test data for both the histogram and KDE model."
      ]
    },
    {
      "cell_type": "code",
      "metadata": {
        "colab": {
          "base_uri": "https://localhost:8080/"
        },
        "id": "KWy4uFTW_962",
        "outputId": "c0d19238-f678-41c6-fb54-cc30b7e679a8"
      },
      "source": [
        "from sklearn.model_selection import GridSearchCV\n",
        "\n",
        "bandwidth_params = list(np.linspace(0.1, 10, 50))\n",
        "bins_params = list(range(2,21))\n",
        "\n",
        "HD_CV = GridSearchCV(estimator=HistogramDensity(3, -5, 5),\n",
        "                     param_grid={'n_bins':bins_params},\n",
        "                     scoring=mean_log_likelihood_scorer,\n",
        "                     cv=10)\n",
        "\n",
        "HD_CV = HD_CV.fit(X_test)\n",
        "\n",
        "KD_CV = GridSearchCV(estimator=KernelDensity(3),\n",
        "                     param_grid={'bandwidth':bandwidth_params},\n",
        "                     scoring=mean_log_likelihood_scorer,\n",
        "                     cv=10)\n",
        "\n",
        "KD_CV = KD_CV.fit(X_test)\n",
        "\n",
        "print(f'The best parameters for histogram density are {HD_CV.best_params_}')\n",
        "print(f'The best parameters for kernel density are {KD_CV.best_params_}')"
      ],
      "execution_count": 37,
      "outputs": [
        {
          "output_type": "stream",
          "name": "stderr",
          "text": [
            "/usr/local/lib/python3.7/dist-packages/ipykernel_launcher.py:4: RuntimeWarning: divide by zero encountered in log\n",
            "  after removing the cwd from sys.path.\n",
            "/usr/local/lib/python3.7/dist-packages/ipykernel_launcher.py:4: RuntimeWarning: divide by zero encountered in log\n",
            "  after removing the cwd from sys.path.\n",
            "/usr/local/lib/python3.7/dist-packages/ipykernel_launcher.py:4: RuntimeWarning: divide by zero encountered in log\n",
            "  after removing the cwd from sys.path.\n",
            "/usr/local/lib/python3.7/dist-packages/ipykernel_launcher.py:4: RuntimeWarning: divide by zero encountered in log\n",
            "  after removing the cwd from sys.path.\n",
            "/usr/local/lib/python3.7/dist-packages/ipykernel_launcher.py:4: RuntimeWarning: divide by zero encountered in log\n",
            "  after removing the cwd from sys.path.\n",
            "/usr/local/lib/python3.7/dist-packages/ipykernel_launcher.py:4: RuntimeWarning: divide by zero encountered in log\n",
            "  after removing the cwd from sys.path.\n",
            "/usr/local/lib/python3.7/dist-packages/ipykernel_launcher.py:4: RuntimeWarning: divide by zero encountered in log\n",
            "  after removing the cwd from sys.path.\n",
            "/usr/local/lib/python3.7/dist-packages/ipykernel_launcher.py:4: RuntimeWarning: divide by zero encountered in log\n",
            "  after removing the cwd from sys.path.\n",
            "/usr/local/lib/python3.7/dist-packages/ipykernel_launcher.py:4: RuntimeWarning: divide by zero encountered in log\n",
            "  after removing the cwd from sys.path.\n",
            "/usr/local/lib/python3.7/dist-packages/ipykernel_launcher.py:4: RuntimeWarning: divide by zero encountered in log\n",
            "  after removing the cwd from sys.path.\n",
            "/usr/local/lib/python3.7/dist-packages/ipykernel_launcher.py:4: RuntimeWarning: divide by zero encountered in log\n",
            "  after removing the cwd from sys.path.\n",
            "/usr/local/lib/python3.7/dist-packages/sklearn/model_selection/_search.py:972: UserWarning: One or more of the test scores are non-finite: [-2.13593042 -2.04554101 -1.98799262 -1.98997496 -1.99086013 -1.98068942\n",
            " -1.96574142 -1.96809928 -1.96977922        -inf -1.98103128        -inf\n",
            "        -inf        -inf        -inf        -inf        -inf        -inf\n",
            "        -inf]\n",
            "  category=UserWarning,\n",
            "/usr/local/lib/python3.7/dist-packages/sklearn/model_selection/_search.py:978: RuntimeWarning: invalid value encountered in subtract\n",
            "  (array - array_means[:, np.newaxis]) ** 2, axis=1, weights=weights\n"
          ]
        },
        {
          "output_type": "stream",
          "name": "stdout",
          "text": [
            "The best parameters for histogram density are {'n_bins': 8}\n",
            "The best parameters for kernel density are {'bandwidth': 0.3020408163265306}\n"
          ]
        }
      ]
    }
  ]
}